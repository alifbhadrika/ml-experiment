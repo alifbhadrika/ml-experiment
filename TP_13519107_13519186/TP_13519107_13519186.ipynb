{
 "cells": [
  {
   "cell_type": "markdown",
   "metadata": {
    "id": "bdq8ydSd4xUy"
   },
   "source": [
    "# Tugas Pendahuluan\n",
    "Tugas Pendahuluan dikerjakan dengan dataset titanic yang dapat didownload pada link [berikut](https://drive.google.com/file/d/16j_9FEHLjh_Y_3CdUtp9M13VwImyT89T/view?usp=sharing). Lakukan prediksi apakah suatu penumpang selamat atau tidak (kolom **survived**), bernilai 0 jika tidak selamat, dan 1 jika selamat.\n",
    "\n",
    "<br>\n",
    "Tugas dikerjakan secara berkelompok, dengan 1 kelompok terdiri atas 2 mahasiswa. Waktu pengerjaan dari 28 Maret 2022 - 3 April 2022 pukul 23.59."
   ]
  },
  {
   "cell_type": "markdown",
   "metadata": {
    "id": "XAHqneEY7b7b"
   },
   "source": [
    "# 0. Loading Data and Library"
   ]
  },
  {
   "cell_type": "code",
   "execution_count": 107,
   "metadata": {
    "id": "zsBbpcIi7fHi"
   },
   "outputs": [],
   "source": [
    "# Put your library here\n",
    "import pandas as pd\n",
    "import numpy as np\n",
    "import matplotlib.pyplot as plt\n",
    "import seaborn as sns\n",
    "from sklearn.model_selection import train_test_split, GridSearchCV, cross_val_score\n",
    "from sklearn.metrics import classification_report, confusion_matrix, precision_score, recall_score, f1_score, accuracy_score\n",
    "from sklearn.preprocessing import LabelEncoder, MinMaxScaler\n",
    "from sklearn.linear_model import LogisticRegression\n",
    "from sklearn.svm import SVC\n",
    "from imblearn.over_sampling import RandomOverSampler\n",
    "from imblearn.under_sampling import RandomUnderSampler\n",
    "from sklearn.ensemble import VotingClassifier, StackingClassifier"
   ]
  },
  {
   "cell_type": "code",
   "execution_count": 108,
   "metadata": {
    "id": "OWLkjeKo7gdD"
   },
   "outputs": [
    {
     "data": {
      "text/html": [
       "<div>\n",
       "<style scoped>\n",
       "    .dataframe tbody tr th:only-of-type {\n",
       "        vertical-align: middle;\n",
       "    }\n",
       "\n",
       "    .dataframe tbody tr th {\n",
       "        vertical-align: top;\n",
       "    }\n",
       "\n",
       "    .dataframe thead th {\n",
       "        text-align: right;\n",
       "    }\n",
       "</style>\n",
       "<table border=\"1\" class=\"dataframe\">\n",
       "  <thead>\n",
       "    <tr style=\"text-align: right;\">\n",
       "      <th></th>\n",
       "      <th>index</th>\n",
       "      <th>pclass</th>\n",
       "      <th>survived</th>\n",
       "      <th>name</th>\n",
       "      <th>sex</th>\n",
       "      <th>age</th>\n",
       "      <th>sibsp</th>\n",
       "      <th>parch</th>\n",
       "      <th>ticket</th>\n",
       "      <th>fare</th>\n",
       "      <th>cabin</th>\n",
       "      <th>embarked</th>\n",
       "    </tr>\n",
       "  </thead>\n",
       "  <tbody>\n",
       "    <tr>\n",
       "      <th>0</th>\n",
       "      <td>0</td>\n",
       "      <td>3.0</td>\n",
       "      <td>1.0</td>\n",
       "      <td>Abelseth, Miss. Karen Marie</td>\n",
       "      <td>female</td>\n",
       "      <td>16.0</td>\n",
       "      <td>0.0</td>\n",
       "      <td>0.0</td>\n",
       "      <td>348125</td>\n",
       "      <td>7.6500</td>\n",
       "      <td>NaN</td>\n",
       "      <td>S</td>\n",
       "    </tr>\n",
       "    <tr>\n",
       "      <th>1</th>\n",
       "      <td>1</td>\n",
       "      <td>3.0</td>\n",
       "      <td>0.0</td>\n",
       "      <td>Burns, Miss. Mary Delia</td>\n",
       "      <td>female</td>\n",
       "      <td>18.0</td>\n",
       "      <td>0.0</td>\n",
       "      <td>0.0</td>\n",
       "      <td>330963</td>\n",
       "      <td>7.8792</td>\n",
       "      <td>NaN</td>\n",
       "      <td>Q</td>\n",
       "    </tr>\n",
       "    <tr>\n",
       "      <th>2</th>\n",
       "      <td>2</td>\n",
       "      <td>1.0</td>\n",
       "      <td>1.0</td>\n",
       "      <td>Fortune, Miss. Alice Elizabeth</td>\n",
       "      <td>female</td>\n",
       "      <td>24.0</td>\n",
       "      <td>3.0</td>\n",
       "      <td>2.0</td>\n",
       "      <td>19950</td>\n",
       "      <td>263.0000</td>\n",
       "      <td>C23 C25 C27</td>\n",
       "      <td>S</td>\n",
       "    </tr>\n",
       "    <tr>\n",
       "      <th>3</th>\n",
       "      <td>3</td>\n",
       "      <td>3.0</td>\n",
       "      <td>1.0</td>\n",
       "      <td>de Messemaeker, Mrs. Guillaume Joseph (Emma)</td>\n",
       "      <td>female</td>\n",
       "      <td>36.0</td>\n",
       "      <td>1.0</td>\n",
       "      <td>0.0</td>\n",
       "      <td>345572</td>\n",
       "      <td>17.4000</td>\n",
       "      <td>NaN</td>\n",
       "      <td>S</td>\n",
       "    </tr>\n",
       "    <tr>\n",
       "      <th>4</th>\n",
       "      <td>4</td>\n",
       "      <td>3.0</td>\n",
       "      <td>0.0</td>\n",
       "      <td>Jonsson, Mr. Nils Hilding</td>\n",
       "      <td>male</td>\n",
       "      <td>27.0</td>\n",
       "      <td>0.0</td>\n",
       "      <td>0.0</td>\n",
       "      <td>350408</td>\n",
       "      <td>7.8542</td>\n",
       "      <td>NaN</td>\n",
       "      <td>S</td>\n",
       "    </tr>\n",
       "  </tbody>\n",
       "</table>\n",
       "</div>"
      ],
      "text/plain": [
       "   index  pclass  survived                                          name  \\\n",
       "0      0     3.0       1.0                   Abelseth, Miss. Karen Marie   \n",
       "1      1     3.0       0.0                       Burns, Miss. Mary Delia   \n",
       "2      2     1.0       1.0                Fortune, Miss. Alice Elizabeth   \n",
       "3      3     3.0       1.0  de Messemaeker, Mrs. Guillaume Joseph (Emma)   \n",
       "4      4     3.0       0.0                     Jonsson, Mr. Nils Hilding   \n",
       "\n",
       "      sex   age  sibsp  parch  ticket      fare        cabin embarked  \n",
       "0  female  16.0    0.0    0.0  348125    7.6500          NaN        S  \n",
       "1  female  18.0    0.0    0.0  330963    7.8792          NaN        Q  \n",
       "2  female  24.0    3.0    2.0   19950  263.0000  C23 C25 C27        S  \n",
       "3  female  36.0    1.0    0.0  345572   17.4000          NaN        S  \n",
       "4    male  27.0    0.0    0.0  350408    7.8542          NaN        S  "
      ]
     },
     "execution_count": 108,
     "metadata": {},
     "output_type": "execute_result"
    }
   ],
   "source": [
    "# Read data here\n",
    "data = pd.read_csv(\"titanic_dataset.csv\")\n",
    "df = pd.DataFrame(data)\n",
    "df.head()"
   ]
  },
  {
   "cell_type": "markdown",
   "metadata": {
    "id": "JYGzyrantR1r"
   },
   "source": [
    "# I. Data Understanding\n",
    "Tujuan dari bagian ini adalah peserta dapat memahami kualitas dari data yang diberikan. Hal ini meliputi:\n",
    "1. Ukuran data\n",
    "2. Statistik dari tiap fitur\n",
    "3. Pencilan (outlier)\n",
    "4. Korelasi\n",
    "5. Distribusi "
   ]
  },
  {
   "cell_type": "markdown",
   "metadata": {
    "id": "8SMf9-ikuoCe"
   },
   "source": [
    "## I.1 \n",
    "Carilah:\n",
    "1. Ukuran dari data (instances dan features)\n",
    "2. Tipe dari tiap-tiap fitur \n",
    "3. Banyaknya unique values dari fitur yang bertipe kategorikal\n",
    "4. Nilai minimum, maksimum, rata-rata, median, dan standar deviasi dari fitur yang tidak bertipe kategorikal"
   ]
  },
  {
   "cell_type": "code",
   "execution_count": 109,
   "metadata": {
    "id": "SAxrfZySuM3-"
   },
   "outputs": [
    {
     "name": "stdout",
     "output_type": "stream",
     "text": [
      "1. Ukuran data: 1309 | Jumlah fitur: 11\n",
      "\n",
      "2. Tipe dari tiap fitur:\n",
      "\n",
      "- pclass : Ordinal, Discrete\n",
      "- sex : Binary, Discrete\n",
      "- embarked : Categorical, Discrete\n",
      "- age : Numeric, Discrete\n",
      "- fare : Numeric, Continuous\n",
      "- sibsp : Numeric, Discrete\n",
      "- parch : Numeric, Discrete\n",
      "- ticket : Nominal, Discrete\n",
      "- cabin : Nominal, Discrete\n",
      "- name : Nominal, Discrete\n",
      "- index : Categorical, Discrete\n",
      "\n",
      "\n",
      "3. Banyaknya unique values dari fitur yang bertipe kategorikal:\n",
      "    Feature  Unique Value Count\n",
      "0    pclass                   3\n",
      "1       sex                   2\n",
      "2  embarked                   3\n",
      "\n",
      "4. Nilai minimum, maksimum, rata-rata, median, dan standar deviasi dari fitur yang tidak bertipe kategorikal:\n",
      "\n",
      "Minimum:\n",
      "age      0.1667\n",
      "sibsp    0.0000\n",
      "parch    0.0000\n",
      "fare     0.0000\n",
      "dtype: float64\n",
      "\n",
      "Maksimum:\n",
      "age       80.0000\n",
      "sibsp      8.0000\n",
      "parch      9.0000\n",
      "fare     512.3292\n",
      "dtype: float64\n",
      "\n",
      "Rata-rata:\n",
      "age      29.881135\n",
      "sibsp     0.498854\n",
      "parch     0.385027\n",
      "fare     33.295479\n",
      "dtype: float64\n",
      "\n",
      "Median:\n",
      "age      28.0000\n",
      "sibsp     0.0000\n",
      "parch     0.0000\n",
      "fare     14.4542\n",
      "dtype: float64\n",
      "\n",
      "Standar Deviasi:\n",
      "age      14.413500\n",
      "sibsp     1.041658\n",
      "parch     0.865560\n",
      "fare     51.758668\n",
      "dtype: float64\n",
      "\n",
      "\n"
     ]
    }
   ],
   "source": [
    "# I.1 Put your code here\n",
    "# 1. Ukuran dari data (instances dan features)\n",
    "data_size = df.shape[0]\n",
    "feature_size = df.loc[:, df.columns!='survived'].shape[1]\n",
    "\n",
    "# 2. Tipe dari tiap-tiap fitur\n",
    "type_desc = \"\"\"\n",
    "- pclass : Ordinal, Discrete\n",
    "- sex : Binary, Discrete\n",
    "- embarked : Categorical, Discrete\n",
    "- age : Numeric, Discrete\n",
    "- fare : Numeric, Continuous\n",
    "- sibsp : Numeric, Discrete\n",
    "- parch : Numeric, Discrete\n",
    "- ticket : Nominal, Discrete\n",
    "- cabin : Nominal, Discrete\n",
    "- name : Nominal, Discrete\n",
    "- index : Categorical, Discrete\n",
    "\"\"\"\n",
    "\n",
    "# 3. Banyaknya unique values dari fitur yang bertipe kategorikal\n",
    "categorical = ['pclass', 'sex', 'embarked']\n",
    "df_categorical = df[categorical]\n",
    "unique_values = df_categorical.nunique().to_frame().reset_index()\n",
    "unique_values.columns = ['Feature', 'Unique Value Count']\n",
    "\n",
    "# 4. Nilai minimum, maksimum, rata-rata, median, dan standar deviasi dari fitur yang tidak bertipe kategorikal\n",
    "non_categorical = ['age', 'sibsp', 'parch', 'fare']\n",
    "df_non_categorical = df[non_categorical]\n",
    "data_min = df_non_categorical.min()\n",
    "data_max = df_non_categorical.max()\n",
    "data_mean = df_non_categorical.mean()\n",
    "data_median = df_non_categorical.median()\n",
    "data_std = df_non_categorical.std()\n",
    "data_desc = f\"\"\"\n",
    "Minimum:\n",
    "{data_min}\n",
    "\n",
    "Maksimum:\n",
    "{data_max}\n",
    "\n",
    "Rata-rata:\n",
    "{data_mean}\n",
    "\n",
    "Median:\n",
    "{data_median}\n",
    "\n",
    "Standar Deviasi:\n",
    "{data_std}\n",
    "\"\"\"\n",
    "\n",
    "print(f\"1. Ukuran data: {data_size} | Jumlah fitur: {feature_size}\\n\")\n",
    "print(f\"2. Tipe dari tiap fitur:\\n{type_desc}\\n\")\n",
    "print(f\"3. Banyaknya unique values dari fitur yang bertipe kategorikal:\\n{unique_values}\\n\")\n",
    "print(f\"4. Nilai minimum, maksimum, rata-rata, median, dan standar deviasi dari fitur yang tidak bertipe kategorikal:\\n{data_desc}\\n\")"
   ]
  },
  {
   "cell_type": "markdown",
   "metadata": {
    "id": "VE1l_gOTwHuz"
   },
   "source": [
    "## I.2\n",
    "Carilah:\n",
    "1. Missing values dari tiap fitur\n",
    "2. Outliers dari tiap fitur (gunakan metode yang kalian ketahui)"
   ]
  },
  {
   "cell_type": "code",
   "execution_count": 110,
   "metadata": {
    "id": "IGe-YWAvwQDr"
   },
   "outputs": [
    {
     "name": "stdout",
     "output_type": "stream",
     "text": [
      "Missing values dari tiap fitur:\n",
      "index          0\n",
      "pclass         0\n",
      "survived       0\n",
      "name           0\n",
      "sex            0\n",
      "age          263\n",
      "sibsp          0\n",
      "parch          0\n",
      "ticket         0\n",
      "fare           1\n",
      "cabin       1014\n",
      "embarked       2\n",
      "dtype: int64\n",
      "\n",
      "Jumlah outliers dari tiap fitur:\n",
      "age        10\n",
      "sibsp      57\n",
      "parch    1309\n",
      "fare      171\n",
      "dtype: int64\n",
      "\n",
      "Outliers dari tiap fitur:\n",
      "AxesSubplot(0.125,0.125;0.775x0.755)\n"
     ]
    },
    {
     "data": {
      "image/png": "[encoded data removed]",
      "text/plain": [
       "<Figure size 432x288 with 1 Axes>"
      ]
     },
     "metadata": {
      "needs_background": "light"
     },
     "output_type": "display_data"
    }
   ],
   "source": [
    "# I.2 Put your code here\n",
    "# 1. Missing values dari tiap fitur\n",
    "missing_values = df.isna().sum()\n",
    "# 2. Outliers dari tiap fitur\n",
    "q1 = df.quantile(0.25)\n",
    "q3 = df.quantile(0.75)\n",
    "iqr = q3 - q1\n",
    "upper_bound = q3+(1.5*iqr)\n",
    "lower_bound = q1-(1.5*iqr)\n",
    "\n",
    "outliers = df_non_categorical[(df_non_categorical <= lower_bound[non_categorical]) | (df_non_categorical >= upper_bound[non_categorical])]\n",
    "boxplot = df.boxplot(column=non_categorical)\n",
    "\n",
    "print(f\"Missing values dari tiap fitur:\\n{missing_values}\\n\")\n",
    "print(f\"Jumlah outliers dari tiap fitur:\\n{outliers.count()}\\n\")\n",
    "print(f\"Outliers dari tiap fitur:\\n{boxplot}\")"
   ]
  },
  {
   "cell_type": "markdown",
   "metadata": {
    "id": "8tUGStQ_wR4P"
   },
   "source": [
    "## I.3\n",
    "Carilah:\n",
    "1. Korelasi antar fitur\n",
    "2. Visualisasikan distribusi dari tiap fitur (kategorikal dan kontinu)\n",
    "3. Visualisasikan distribusi dari tiap fitur, dengan data dibagi tiap unique values fitur survived"
   ]
  },
  {
   "cell_type": "code",
   "execution_count": 111,
   "metadata": {
    "id": "XoBqyQA1wRNX"
   },
   "outputs": [
    {
     "name": "stdout",
     "output_type": "stream",
     "text": [
      "1. Korelasi antar fitur\n",
      "             index    pclass  survived       age     sibsp     parch      fare\n",
      "index     1.000000 -0.003466  0.002967 -0.003376 -0.015501 -0.013538 -0.022424\n",
      "pclass   -0.003466  1.000000 -0.312469 -0.408106  0.060832  0.018322 -0.558629\n",
      "survived  0.002967 -0.312469  1.000000 -0.055513 -0.027825  0.082660  0.244265\n",
      "age      -0.003376 -0.408106 -0.055513  1.000000 -0.243699 -0.150917  0.178739\n",
      "sibsp    -0.015501  0.060832 -0.027825 -0.243699  1.000000  0.373587  0.160238\n",
      "parch    -0.013538  0.018322  0.082660 -0.150917  0.373587  1.000000  0.221539\n",
      "fare     -0.022424 -0.558629  0.244265  0.178739  0.160238  0.221539  1.000000\n"
     ]
    }
   ],
   "source": [
    "# I.3 Put your code here\n",
    "# 1. Korelasi antar fitur\n",
    "print(f'1. Korelasi antar fitur\\n{df.corr()}')"
   ]
  },
  {
   "cell_type": "code",
   "execution_count": 112,
   "metadata": {},
   "outputs": [
    {
     "data": {
      "image/png": "[encoded data removed]",
      "text/plain": [
       "<Figure size 432x288 with 1 Axes>"
      ]
     },
     "metadata": {
      "needs_background": "light"
     },
     "output_type": "display_data"
    }
   ],
   "source": [
    "# 2. Visualisasikan distribusi dari tiap fitur (kategorikal dan kontinu)\n",
    "\n",
    "df.groupby('pclass')['index'].count().plot.bar()\n",
    "plt.show()"
   ]
  },
  {
   "cell_type": "code",
   "execution_count": 113,
   "metadata": {},
   "outputs": [
    {
     "data": {
      "image/png": "[encoded data removed]",
      "text/plain": [
       "<Figure size 432x288 with 1 Axes>"
      ]
     },
     "metadata": {
      "needs_background": "light"
     },
     "output_type": "display_data"
    }
   ],
   "source": [
    "df.groupby('sex')['index'].count().plot.bar()\n",
    "plt.show()"
   ]
  },
  {
   "cell_type": "code",
   "execution_count": 114,
   "metadata": {},
   "outputs": [
    {
     "data": {
      "image/png": "[encoded data removed]",
      "text/plain": [
       "<Figure size 432x288 with 1 Axes>"
      ]
     },
     "metadata": {
      "needs_background": "light"
     },
     "output_type": "display_data"
    }
   ],
   "source": [
    "df.groupby('embarked')['index'].count().plot.bar()\n",
    "plt.show()"
   ]
  },
  {
   "cell_type": "code",
   "execution_count": 115,
   "metadata": {},
   "outputs": [
    {
     "data": {
      "image/png": "[encoded data removed]",
      "text/plain": [
       "<Figure size 432x288 with 1 Axes>"
      ]
     },
     "metadata": {
      "needs_background": "light"
     },
     "output_type": "display_data"
    }
   ],
   "source": [
    "df.groupby('age')['index'].count().plot.hist()\n",
    "plt.show()"
   ]
  },
  {
   "cell_type": "code",
   "execution_count": 116,
   "metadata": {},
   "outputs": [
    {
     "data": {
      "image/png": "[encoded data removed]",
      "text/plain": [
       "<Figure size 432x288 with 1 Axes>"
      ]
     },
     "metadata": {
      "needs_background": "light"
     },
     "output_type": "display_data"
    }
   ],
   "source": [
    "df.groupby('fare')['index'].count().plot.hist()\n",
    "plt.show()"
   ]
  },
  {
   "cell_type": "code",
   "execution_count": 117,
   "metadata": {},
   "outputs": [
    {
     "data": {
      "image/png": "[encoded data removed]",
      "text/plain": [
       "<Figure size 432x288 with 1 Axes>"
      ]
     },
     "metadata": {
      "needs_background": "light"
     },
     "output_type": "display_data"
    }
   ],
   "source": [
    "df.groupby('sibsp')['index'].count().plot.hist()\n",
    "plt.show()"
   ]
  },
  {
   "cell_type": "code",
   "execution_count": 118,
   "metadata": {},
   "outputs": [
    {
     "data": {
      "image/png": "[encoded data removed]",
      "text/plain": [
       "<Figure size 432x288 with 1 Axes>"
      ]
     },
     "metadata": {
      "needs_background": "light"
     },
     "output_type": "display_data"
    }
   ],
   "source": [
    "df.groupby('parch')['index'].count().plot.hist()\n",
    "plt.show()"
   ]
  },
  {
   "cell_type": "code",
   "execution_count": 119,
   "metadata": {},
   "outputs": [
    {
     "data": {
      "text/plain": [
       "<AxesSubplot:xlabel='pclass'>"
      ]
     },
     "execution_count": 119,
     "metadata": {},
     "output_type": "execute_result"
    },
    {
     "data": {
      "image/png": "[encoded data removed]",
      "text/plain": [
       "<Figure size 432x288 with 1 Axes>"
      ]
     },
     "metadata": {
      "needs_background": "light"
     },
     "output_type": "display_data"
    }
   ],
   "source": [
    "# 3. Visualisasikan distribusi dari tiap fitur, dengan data dibagi tiap unique values fitur survived\n",
    "\n",
    "total = df.groupby('pclass')['index'].count()\n",
    "\n",
    "survived = df[df['survived']==1].groupby('pclass')['index'].count()\n",
    "not_survived = df[df['survived']==0].groupby('pclass')['index'].count()\n",
    "\n",
    "dt = pd.concat([total, survived, not_survived], axis=1, sort=True)\n",
    "dt.fillna(0, inplace=True)\n",
    "dt.columns=['total','survived','not_survived']\n",
    "dt = dt.astype('int64')\n",
    "\n",
    "dt.loc[:,['survived','not_survived']].plot.bar(stacked=True)"
   ]
  },
  {
   "cell_type": "code",
   "execution_count": 120,
   "metadata": {},
   "outputs": [
    {
     "data": {
      "text/plain": [
       "<AxesSubplot:xlabel='sex'>"
      ]
     },
     "execution_count": 120,
     "metadata": {},
     "output_type": "execute_result"
    },
    {
     "data": {
      "image/png": "[encoded data removed]",
      "text/plain": [
       "<Figure size 432x288 with 1 Axes>"
      ]
     },
     "metadata": {
      "needs_background": "light"
     },
     "output_type": "display_data"
    }
   ],
   "source": [
    "total = df.groupby('sex')['index'].count()\n",
    "\n",
    "survived = df[df['survived']==1].groupby('sex')['index'].count()\n",
    "not_survived = df[df['survived']==0].groupby('sex')['index'].count()\n",
    "\n",
    "dt = pd.concat([total, survived, not_survived], axis=1, sort=True)\n",
    "dt.fillna(0, inplace=True)\n",
    "dt.columns=['total','survived','not_survived']\n",
    "dt = dt.astype('int64')\n",
    "\n",
    "dt.loc[:,['survived','not_survived']].plot.bar(stacked=True)"
   ]
  },
  {
   "cell_type": "code",
   "execution_count": 121,
   "metadata": {},
   "outputs": [
    {
     "data": {
      "text/plain": [
       "<AxesSubplot:xlabel='embarked'>"
      ]
     },
     "execution_count": 121,
     "metadata": {},
     "output_type": "execute_result"
    },
    {
     "data": {
      "image/png": "[encoded data removed]",
      "text/plain": [
       "<Figure size 432x288 with 1 Axes>"
      ]
     },
     "metadata": {
      "needs_background": "light"
     },
     "output_type": "display_data"
    }
   ],
   "source": [
    "total = df.groupby('embarked')['index'].count()\n",
    "\n",
    "survived = df[df['survived']==1].groupby('embarked')['index'].count()\n",
    "not_survived = df[df['survived']==0].groupby('embarked')['index'].count()\n",
    "\n",
    "dt = pd.concat([total, survived, not_survived], axis=1, sort=True)\n",
    "dt.fillna(0, inplace=True)\n",
    "dt.columns=['total','survived','not_survived']\n",
    "dt = dt.astype('int64')\n",
    "\n",
    "dt.loc[:,['survived','not_survived']].plot.bar(stacked=True)"
   ]
  },
  {
   "cell_type": "code",
   "execution_count": 122,
   "metadata": {},
   "outputs": [
    {
     "data": {
      "text/plain": [
       "<AxesSubplot:xlabel='age'>"
      ]
     },
     "execution_count": 122,
     "metadata": {},
     "output_type": "execute_result"
    },
    {
     "data": {
      "image/png": "[encoded data removed]",
      "text/plain": [
       "<Figure size 432x288 with 1 Axes>"
      ]
     },
     "metadata": {
      "needs_background": "light"
     },
     "output_type": "display_data"
    }
   ],
   "source": [
    "total = df.groupby('age')['index'].count()\n",
    "\n",
    "survived = df[df['survived']==1].groupby('age')['index'].count()\n",
    "not_survived = df[df['survived']==0].groupby('age')['index'].count()\n",
    "\n",
    "dt = pd.concat([total, survived, not_survived], axis=1, sort=True)\n",
    "dt.fillna(0, inplace=True)\n",
    "dt.columns=['total','survived','not_survived']\n",
    "dt = dt.astype('int64')\n",
    "\n",
    "dt.loc[:,['survived','not_survived']].plot.bar(stacked=True)"
   ]
  },
  {
   "cell_type": "code",
   "execution_count": 123,
   "metadata": {},
   "outputs": [
    {
     "data": {
      "text/plain": [
       "<AxesSubplot:xlabel='fare'>"
      ]
     },
     "execution_count": 123,
     "metadata": {},
     "output_type": "execute_result"
    },
    {
     "data": {
      "image/png": "[encoded data removed]",
      "text/plain": [
       "<Figure size 432x288 with 1 Axes>"
      ]
     },
     "metadata": {
      "needs_background": "light"
     },
     "output_type": "display_data"
    }
   ],
   "source": [
    "total = df.groupby('fare')['index'].count()\n",
    "\n",
    "survived = df[df['survived']==1].groupby('fare')['index'].count()\n",
    "not_survived = df[df['survived']==0].groupby('fare')['index'].count()\n",
    "\n",
    "dt = pd.concat([total, survived, not_survived], axis=1, sort=True)\n",
    "dt.fillna(0, inplace=True)\n",
    "dt.columns=['total','survived','not_survived']\n",
    "dt = dt.astype('int64')\n",
    "\n",
    "dt.loc[:,['survived','not_survived']].plot.bar(stacked=True)"
   ]
  },
  {
   "cell_type": "code",
   "execution_count": 124,
   "metadata": {},
   "outputs": [
    {
     "data": {
      "text/plain": [
       "<AxesSubplot:xlabel='sibsp'>"
      ]
     },
     "execution_count": 124,
     "metadata": {},
     "output_type": "execute_result"
    },
    {
     "data": {
      "image/png": "[encoded data removed]",
      "text/plain": [
       "<Figure size 432x288 with 1 Axes>"
      ]
     },
     "metadata": {
      "needs_background": "light"
     },
     "output_type": "display_data"
    }
   ],
   "source": [
    "total = df.groupby('sibsp')['index'].count()\n",
    "\n",
    "survived = df[df['survived']==1].groupby('sibsp')['index'].count()\n",
    "not_survived = df[df['survived']==0].groupby('sibsp')['index'].count()\n",
    "\n",
    "dt = pd.concat([total, survived, not_survived], axis=1, sort=True)\n",
    "dt.fillna(0, inplace=True)\n",
    "dt.columns=['total','survived','not_survived']\n",
    "dt = dt.astype('int64')\n",
    "\n",
    "dt.loc[:, ['survived','not_survived']].plot.bar(stacked=True)"
   ]
  },
  {
   "cell_type": "code",
   "execution_count": 125,
   "metadata": {},
   "outputs": [
    {
     "data": {
      "text/plain": [
       "<AxesSubplot:xlabel='parch'>"
      ]
     },
     "execution_count": 125,
     "metadata": {},
     "output_type": "execute_result"
    },
    {
     "data": {
      "image/png": "[encoded data removed]",
      "text/plain": [
       "<Figure size 432x288 with 1 Axes>"
      ]
     },
     "metadata": {
      "needs_background": "light"
     },
     "output_type": "display_data"
    }
   ],
   "source": [
    "total = df.groupby('parch')['index'].count()\n",
    "\n",
    "survived = df[df['survived']==1].groupby('parch')['index'].count()\n",
    "not_survived = df[df['survived']==0].groupby('parch')['index'].count()\n",
    "\n",
    "dt = pd.concat([total, survived, not_survived], axis=1, sort=True)\n",
    "dt.fillna(0, inplace=True)\n",
    "dt.columns=['total','survived','not_survived']\n",
    "dt = dt.astype('int64')\n",
    "\n",
    "dt.loc[:,['survived','not_survived']].plot.bar(stacked=True)"
   ]
  },
  {
   "cell_type": "markdown",
   "metadata": {
    "id": "kV3BDt235mdz"
   },
   "source": [
    "## I.4\n",
    "Lakukanlah analisa pada data lebih lanjut jika dibutuhkan, kemudian lakukanlah:\n",
    "1. Penambahan fitur jika memungkinkan\n",
    "2. Pembuangan fitur yang menurut kalian tidak dibutuhkan\n",
    "3. Penanganan missing values\n",
    "4. Transformasi data kategorikal menjadi numerikal (encoding), dengan metode yang kalian inginkan\n",
    "5. Lakukan scaling dengan MinMaxScaler"
   ]
  },
  {
   "cell_type": "code",
   "execution_count": 126,
   "metadata": {
    "id": "jlTGspG_56re"
   },
   "outputs": [],
   "source": [
    "# I.4\n",
    "\n",
    "# 1. Penambahan fitur jika memungkinkan\n",
    "# Tidak memerlukan penambahan fitur sehingga tidak dilakukan, karena fitur yang ada sudah cukup untuk memprediksi apakah penumpang survived atau tidak.\n",
    "\n",
    "# 2. Pembuangan fitur yang tidak dibutuhkan\n",
    "df.drop(['name','ticket','embarked', 'cabin'], axis=1, inplace=True)\n",
    "\n",
    "# 3. Penanganan missing values\n",
    "# mengisi nilai null dengan rata-rata dari feature\n",
    "df['age'].fillna(df['age'].mean(), inplace=True)\n",
    "df['fare'].fillna(df['fare'].mean(), inplace=True)\n",
    "\n",
    "\n",
    "# 4. Encoding data kategorikal\n",
    "encoder = LabelEncoder()\n",
    "df['pclass'] = encoder.fit_transform(data['pclass'])\n",
    "df['sex'] = encoder.fit_transform(data['sex'])\n",
    "\n",
    "# 5. Scaling\n",
    "scaler = MinMaxScaler()\n",
    "scaled_df = scaler.fit_transform(df)\n"
   ]
  },
  {
   "cell_type": "markdown",
   "metadata": {
    "id": "mt2zHZRauLIm"
   },
   "source": [
    "# II. Experiments Design\n",
    "Tujuan dari bagian ini adalah peserta dapat memahami cara melakukan eksperimen mencari metode terbaik dengan benar. Hal ini meliputi:\n",
    "1. Pembuatan model\n",
    "2. Proses validasi\n",
    "3. Hyperparameter tuning"
   ]
  },
  {
   "cell_type": "markdown",
   "metadata": {
    "id": "Kf4xsl8RydIt"
   },
   "source": [
    "## II.1\n",
    "Tentukanlah metrics yang akan digunakan pada eksperimen kali ini (dapat lebih dari 1 metric)"
   ]
  },
  {
   "cell_type": "markdown",
   "metadata": {
    "id": "S2I0axfj4OuC"
   },
   "source": [
    "1. Accuracy\n",
    "2. Recall\n",
    "3. F1 Score\n",
    "4. Precisision"
   ]
  },
  {
   "cell_type": "markdown",
   "metadata": {
    "id": "FONT0OyUyoQG"
   },
   "source": [
    "## II.2 \n",
    "Bagi data dengan perbandingan 0.8 untuk data train dan 0.2 untuk data validasi"
   ]
  },
  {
   "cell_type": "code",
   "execution_count": 127,
   "metadata": {
    "id": "Gqa9nn5muMS2"
   },
   "outputs": [],
   "source": [
    "# II.2\n",
    "x = df[['index', 'pclass', 'age', 'sibsp', 'parch', 'fare', 'sex']]\n",
    "y = df['survived']\n",
    "x_train, x_test, y_train, y_test = train_test_split(x, y, test_size=0.2, train_size=0.8, random_state=42)"
   ]
  },
  {
   "cell_type": "markdown",
   "metadata": {
    "id": "V4yS8O3tyyyh"
   },
   "source": [
    "## II.3\n",
    "Lakukanlah:\n",
    "1. Prediksi dengan menggunakan model Logistic Regression sebagai *baseline*\n",
    "2. Tampilkan evaluasi dari model yang dibangun dari metrics yang anda tentukan pada II.1\n",
    "3. Tampilkan confusion matrix"
   ]
  },
  {
   "cell_type": "code",
   "execution_count": 128,
   "metadata": {
    "id": "EpEqAz94yyQo"
   },
   "outputs": [
    {
     "name": "stdout",
     "output_type": "stream",
     "text": [
      "Evaluasi pembelajaran Logistic Regression dengan metrics II.1: \n",
      "\n",
      "              precision    recall  f1-score   support\n",
      "\n",
      "         0.0       0.75      0.87      0.81       156\n",
      "         1.0       0.75      0.58      0.66       106\n",
      "\n",
      "    accuracy                           0.75       262\n",
      "   macro avg       0.75      0.73      0.73       262\n",
      "weighted avg       0.75      0.75      0.75       262\n",
      "\n",
      "precision hasil prediksi : 0.7469879518072289\n",
      "recall hasil prediksi : 0.5849056603773585\n",
      "f1 score hasil prediksi : 0.656084656084656\n",
      "Accuracy hasil prediksi : 0.7519083969465649\n",
      "\n",
      "Confusion matrix: \n",
      "\n",
      "            Predicted No  Predicted Yes\n",
      "Actual No            135             21\n",
      "Actual Yes            44             62\n"
     ]
    },
    {
     "name": "stderr",
     "output_type": "stream",
     "text": [
      "C:\\Users\\ASUS\\AppData\\Local\\Programs\\Python\\Python39\\lib\\site-packages\\sklearn\\linear_model\\_logistic.py:814: ConvergenceWarning: lbfgs failed to converge (status=1):\n",
      "STOP: TOTAL NO. of ITERATIONS REACHED LIMIT.\n",
      "\n",
      "Increase the number of iterations (max_iter) or scale the data as shown in:\n",
      "    https://scikit-learn.org/stable/modules/preprocessing.html\n",
      "Please also refer to the documentation for alternative solver options:\n",
      "    https://scikit-learn.org/stable/modules/linear_model.html#logistic-regression\n",
      "  n_iter_i = _check_optimize_result(\n"
     ]
    }
   ],
   "source": [
    "# II.3\n",
    "\n",
    "# 1. Prediksi dengan Logistic Regression\n",
    "lr = LogisticRegression()\n",
    "lr.fit(x_train, y_train)\n",
    "titanic_pred = lr.predict(x_test)\n",
    "\n",
    "# 2. Evaluasi\n",
    "print(\"Evaluasi pembelajaran Logistic Regression dengan metrics II.1: \\n\")\n",
    "print(classification_report(y_test, titanic_pred))\n",
    "print(\"precision hasil prediksi :\", precision_score(y_test, titanic_pred))\n",
    "print(\"recall hasil prediksi :\", recall_score(y_test, titanic_pred))\n",
    "print(\"f1 score hasil prediksi :\", f1_score(y_test, titanic_pred))\n",
    "print(\"Accuracy hasil prediksi :\",accuracy_score(y_test, titanic_pred))\n",
    "\n",
    "# 3. Confusion matrix\n",
    "print(\"\\nConfusion matrix: \\n\")\n",
    "print(pd.DataFrame(confusion_matrix(y_test, titanic_pred),columns=['Predicted No','Predicted Yes'],index=['Actual No','Actual Yes']))"
   ]
  },
  {
   "cell_type": "markdown",
   "metadata": {
    "id": "aFB2AlZfzU54"
   },
   "source": [
    "## II.4 \n",
    "Lakukanlah:\n",
    "1. Pembelajaran dengan model lain\n",
    "2. Hyperparameter tuning model yang kalian pakai dengan menggunakan Grid Search (perhatikan random factor pada beberapa algoritma model)\n",
    "3. Lakukan validasi dengan menggunakan cross validation\n"
   ]
  },
  {
   "cell_type": "code",
   "execution_count": 129,
   "metadata": {
    "id": "df0YVJ7dzUSc"
   },
   "outputs": [
    {
     "name": "stdout",
     "output_type": "stream",
     "text": [
      "Evaluasi pembelajaran SVM dengan metrics II.1: \n",
      "\n",
      "              precision    recall  f1-score   support\n",
      "\n",
      "         0.0       0.61      0.99      0.75       156\n",
      "         1.0       0.75      0.06      0.11       106\n",
      "\n",
      "    accuracy                           0.61       262\n",
      "   macro avg       0.68      0.52      0.43       262\n",
      "weighted avg       0.66      0.61      0.49       262\n",
      "\n",
      "precision hasil prediksi SVM : 0.75\n",
      "recall hasil prediksi SVM : 0.05660377358490566\n",
      "f1 score hasil prediksi SVM : 0.10526315789473685\n",
      "Accuracy hasil prediksi SVM : 0.6106870229007634\n",
      "\n",
      "Confusion matrix: \n",
      "\n",
      "            Predicted No  Predicted Yes\n",
      "Actual No            154              2\n",
      "Actual Yes           100              6\n",
      "Fitting 5 folds for each of 25 candidates, totalling 125 fits\n",
      "[CV 1/5] END ........C=0.1, gamma=1, kernel=rbf;, score=0.624 total time=   0.0s\n",
      "[CV 2/5] END ........C=0.1, gamma=1, kernel=rbf;, score=0.624 total time=   0.0s\n",
      "[CV 3/5] END ........C=0.1, gamma=1, kernel=rbf;, score=0.627 total time=   0.0s\n",
      "[CV 4/5] END ........C=0.1, gamma=1, kernel=rbf;, score=0.622 total time=   0.0s\n",
      "[CV 5/5] END ........C=0.1, gamma=1, kernel=rbf;, score=0.622 total time=   0.0s\n",
      "[CV 1/5] END ......C=0.1, gamma=0.1, kernel=rbf;, score=0.624 total time=   0.0s\n",
      "[CV 2/5] END ......C=0.1, gamma=0.1, kernel=rbf;, score=0.624 total time=   0.0s\n",
      "[CV 3/5] END ......C=0.1, gamma=0.1, kernel=rbf;, score=0.627 total time=   0.0s\n",
      "[CV 4/5] END ......C=0.1, gamma=0.1, kernel=rbf;, score=0.622 total time=   0.0s\n",
      "[CV 5/5] END ......C=0.1, gamma=0.1, kernel=rbf;, score=0.622 total time=   0.0s\n",
      "[CV 1/5] END .....C=0.1, gamma=0.01, kernel=rbf;, score=0.624 total time=   0.0s\n",
      "[CV 2/5] END .....C=0.1, gamma=0.01, kernel=rbf;, score=0.624 total time=   0.0s\n",
      "[CV 3/5] END .....C=0.1, gamma=0.01, kernel=rbf;, score=0.627 total time=   0.0s\n",
      "[CV 4/5] END .....C=0.1, gamma=0.01, kernel=rbf;, score=0.622 total time=   0.0s\n",
      "[CV 5/5] END .....C=0.1, gamma=0.01, kernel=rbf;, score=0.622 total time=   0.0s\n",
      "[CV 1/5] END ....C=0.1, gamma=0.001, kernel=rbf;, score=0.624 total time=   0.0s\n",
      "[CV 2/5] END ....C=0.1, gamma=0.001, kernel=rbf;, score=0.624 total time=   0.0s\n",
      "[CV 3/5] END ....C=0.1, gamma=0.001, kernel=rbf;, score=0.627 total time=   0.0s\n",
      "[CV 4/5] END ....C=0.1, gamma=0.001, kernel=rbf;, score=0.622 total time=   0.0s\n",
      "[CV 5/5] END ....C=0.1, gamma=0.001, kernel=rbf;, score=0.622 total time=   0.0s\n",
      "[CV 1/5] END ...C=0.1, gamma=0.0001, kernel=rbf;, score=0.624 total time=   0.0s\n",
      "[CV 2/5] END ...C=0.1, gamma=0.0001, kernel=rbf;, score=0.624 total time=   0.0s\n",
      "[CV 3/5] END ...C=0.1, gamma=0.0001, kernel=rbf;, score=0.627 total time=   0.0s\n",
      "[CV 4/5] END ...C=0.1, gamma=0.0001, kernel=rbf;, score=0.622 total time=   0.0s\n",
      "[CV 5/5] END ...C=0.1, gamma=0.0001, kernel=rbf;, score=0.622 total time=   0.0s\n",
      "[CV 1/5] END ..........C=1, gamma=1, kernel=rbf;, score=0.624 total time=   0.0s\n",
      "[CV 2/5] END ..........C=1, gamma=1, kernel=rbf;, score=0.624 total time=   0.0s\n",
      "[CV 3/5] END ..........C=1, gamma=1, kernel=rbf;, score=0.627 total time=   0.0s\n",
      "[CV 4/5] END ..........C=1, gamma=1, kernel=rbf;, score=0.622 total time=   0.0s\n",
      "[CV 5/5] END ..........C=1, gamma=1, kernel=rbf;, score=0.622 total time=   0.0s\n",
      "[CV 1/5] END ........C=1, gamma=0.1, kernel=rbf;, score=0.600 total time=   0.0s\n",
      "[CV 2/5] END ........C=1, gamma=0.1, kernel=rbf;, score=0.614 total time=   0.0s\n",
      "[CV 3/5] END ........C=1, gamma=0.1, kernel=rbf;, score=0.632 total time=   0.0s\n",
      "[CV 4/5] END ........C=1, gamma=0.1, kernel=rbf;, score=0.612 total time=   0.0s\n",
      "[CV 5/5] END ........C=1, gamma=0.1, kernel=rbf;, score=0.612 total time=   0.0s\n",
      "[CV 1/5] END .......C=1, gamma=0.01, kernel=rbf;, score=0.581 total time=   0.0s\n",
      "[CV 2/5] END .......C=1, gamma=0.01, kernel=rbf;, score=0.605 total time=   0.0s\n",
      "[CV 3/5] END .......C=1, gamma=0.01, kernel=rbf;, score=0.632 total time=   0.0s\n",
      "[CV 4/5] END .......C=1, gamma=0.01, kernel=rbf;, score=0.632 total time=   0.0s\n",
      "[CV 5/5] END .......C=1, gamma=0.01, kernel=rbf;, score=0.593 total time=   0.0s\n",
      "[CV 1/5] END ......C=1, gamma=0.001, kernel=rbf;, score=0.662 total time=   0.0s\n",
      "[CV 2/5] END ......C=1, gamma=0.001, kernel=rbf;, score=0.662 total time=   0.0s\n",
      "[CV 3/5] END ......C=1, gamma=0.001, kernel=rbf;, score=0.670 total time=   0.0s\n",
      "[CV 4/5] END ......C=1, gamma=0.001, kernel=rbf;, score=0.660 total time=   0.0s\n",
      "[CV 5/5] END ......C=1, gamma=0.001, kernel=rbf;, score=0.612 total time=   0.0s\n",
      "[CV 1/5] END .....C=1, gamma=0.0001, kernel=rbf;, score=0.643 total time=   0.0s\n",
      "[CV 2/5] END .....C=1, gamma=0.0001, kernel=rbf;, score=0.662 total time=   0.0s\n",
      "[CV 3/5] END .....C=1, gamma=0.0001, kernel=rbf;, score=0.656 total time=   0.0s\n",
      "[CV 4/5] END .....C=1, gamma=0.0001, kernel=rbf;, score=0.660 total time=   0.0s\n",
      "[CV 5/5] END .....C=1, gamma=0.0001, kernel=rbf;, score=0.646 total time=   0.0s\n",
      "[CV 1/5] END .........C=10, gamma=1, kernel=rbf;, score=0.624 total time=   0.0s\n",
      "[CV 2/5] END .........C=10, gamma=1, kernel=rbf;, score=0.629 total time=   0.0s\n",
      "[CV 3/5] END .........C=10, gamma=1, kernel=rbf;, score=0.627 total time=   0.0s\n",
      "[CV 4/5] END .........C=10, gamma=1, kernel=rbf;, score=0.622 total time=   0.0s\n",
      "[CV 5/5] END .........C=10, gamma=1, kernel=rbf;, score=0.627 total time=   0.0s\n",
      "[CV 1/5] END .......C=10, gamma=0.1, kernel=rbf;, score=0.581 total time=   0.0s\n",
      "[CV 2/5] END .......C=10, gamma=0.1, kernel=rbf;, score=0.624 total time=   0.0s\n",
      "[CV 3/5] END .......C=10, gamma=0.1, kernel=rbf;, score=0.622 total time=   0.0s\n",
      "[CV 4/5] END .......C=10, gamma=0.1, kernel=rbf;, score=0.603 total time=   0.0s\n",
      "[CV 5/5] END .......C=10, gamma=0.1, kernel=rbf;, score=0.617 total time=   0.0s\n",
      "[CV 1/5] END ......C=10, gamma=0.01, kernel=rbf;, score=0.543 total time=   0.0s\n",
      "[CV 2/5] END ......C=10, gamma=0.01, kernel=rbf;, score=0.548 total time=   0.0s\n",
      "[CV 3/5] END ......C=10, gamma=0.01, kernel=rbf;, score=0.565 total time=   0.0s\n",
      "[CV 4/5] END ......C=10, gamma=0.01, kernel=rbf;, score=0.555 total time=   0.0s\n",
      "[CV 5/5] END ......C=10, gamma=0.01, kernel=rbf;, score=0.512 total time=   0.0s\n",
      "[CV 1/5] END .....C=10, gamma=0.001, kernel=rbf;, score=0.619 total time=   0.0s\n",
      "[CV 2/5] END .....C=10, gamma=0.001, kernel=rbf;, score=0.624 total time=   0.0s\n",
      "[CV 3/5] END .....C=10, gamma=0.001, kernel=rbf;, score=0.660 total time=   0.0s\n",
      "[CV 4/5] END .....C=10, gamma=0.001, kernel=rbf;, score=0.641 total time=   0.0s\n",
      "[CV 5/5] END .....C=10, gamma=0.001, kernel=rbf;, score=0.593 total time=   0.0s\n",
      "[CV 1/5] END ....C=10, gamma=0.0001, kernel=rbf;, score=0.657 total time=   0.0s\n",
      "[CV 2/5] END ....C=10, gamma=0.0001, kernel=rbf;, score=0.652 total time=   0.0s\n",
      "[CV 3/5] END ....C=10, gamma=0.0001, kernel=rbf;, score=0.656 total time=   0.0s\n",
      "[CV 4/5] END ....C=10, gamma=0.0001, kernel=rbf;, score=0.656 total time=   0.0s\n",
      "[CV 5/5] END ....C=10, gamma=0.0001, kernel=rbf;, score=0.622 total time=   0.0s\n",
      "[CV 1/5] END ........C=100, gamma=1, kernel=rbf;, score=0.624 total time=   0.0s\n",
      "[CV 2/5] END ........C=100, gamma=1, kernel=rbf;, score=0.629 total time=   0.0s\n",
      "[CV 3/5] END ........C=100, gamma=1, kernel=rbf;, score=0.627 total time=   0.0s\n",
      "[CV 4/5] END ........C=100, gamma=1, kernel=rbf;, score=0.622 total time=   0.0s\n",
      "[CV 5/5] END ........C=100, gamma=1, kernel=rbf;, score=0.627 total time=   0.0s\n",
      "[CV 1/5] END ......C=100, gamma=0.1, kernel=rbf;, score=0.581 total time=   0.0s\n",
      "[CV 2/5] END ......C=100, gamma=0.1, kernel=rbf;, score=0.624 total time=   0.0s\n",
      "[CV 3/5] END ......C=100, gamma=0.1, kernel=rbf;, score=0.622 total time=   0.0s\n",
      "[CV 4/5] END ......C=100, gamma=0.1, kernel=rbf;, score=0.603 total time=   0.0s\n",
      "[CV 5/5] END ......C=100, gamma=0.1, kernel=rbf;, score=0.617 total time=   0.0s\n",
      "[CV 1/5] END .....C=100, gamma=0.01, kernel=rbf;, score=0.543 total time=   0.0s\n",
      "[CV 2/5] END .....C=100, gamma=0.01, kernel=rbf;, score=0.562 total time=   0.0s\n",
      "[CV 3/5] END .....C=100, gamma=0.01, kernel=rbf;, score=0.545 total time=   0.0s\n",
      "[CV 4/5] END .....C=100, gamma=0.01, kernel=rbf;, score=0.555 total time=   0.0s\n",
      "[CV 5/5] END .....C=100, gamma=0.01, kernel=rbf;, score=0.507 total time=   0.0s\n",
      "[CV 1/5] END ....C=100, gamma=0.001, kernel=rbf;, score=0.619 total time=   0.0s\n",
      "[CV 2/5] END ....C=100, gamma=0.001, kernel=rbf;, score=0.624 total time=   0.0s\n",
      "[CV 3/5] END ....C=100, gamma=0.001, kernel=rbf;, score=0.632 total time=   0.0s\n",
      "[CV 4/5] END ....C=100, gamma=0.001, kernel=rbf;, score=0.603 total time=   0.0s\n",
      "[CV 5/5] END ....C=100, gamma=0.001, kernel=rbf;, score=0.622 total time=   0.0s\n",
      "[CV 1/5] END ...C=100, gamma=0.0001, kernel=rbf;, score=0.671 total time=   0.0s\n",
      "[CV 2/5] END ...C=100, gamma=0.0001, kernel=rbf;, score=0.662 total time=   0.0s\n",
      "[CV 3/5] END ...C=100, gamma=0.0001, kernel=rbf;, score=0.713 total time=   0.0s\n",
      "[CV 4/5] END ...C=100, gamma=0.0001, kernel=rbf;, score=0.670 total time=   0.0s\n",
      "[CV 5/5] END ...C=100, gamma=0.0001, kernel=rbf;, score=0.622 total time=   0.0s\n",
      "[CV 1/5] END .......C=1000, gamma=1, kernel=rbf;, score=0.624 total time=   0.0s\n",
      "[CV 2/5] END .......C=1000, gamma=1, kernel=rbf;, score=0.629 total time=   0.0s\n",
      "[CV 3/5] END .......C=1000, gamma=1, kernel=rbf;, score=0.627 total time=   0.0s\n",
      "[CV 4/5] END .......C=1000, gamma=1, kernel=rbf;, score=0.622 total time=   0.0s\n",
      "[CV 5/5] END .......C=1000, gamma=1, kernel=rbf;, score=0.627 total time=   0.0s\n",
      "[CV 1/5] END .....C=1000, gamma=0.1, kernel=rbf;, score=0.581 total time=   0.0s\n",
      "[CV 2/5] END .....C=1000, gamma=0.1, kernel=rbf;, score=0.624 total time=   0.0s\n",
      "[CV 3/5] END .....C=1000, gamma=0.1, kernel=rbf;, score=0.622 total time=   0.1s\n",
      "[CV 4/5] END .....C=1000, gamma=0.1, kernel=rbf;, score=0.603 total time=   0.0s\n",
      "[CV 5/5] END .....C=1000, gamma=0.1, kernel=rbf;, score=0.617 total time=   0.0s\n",
      "[CV 1/5] END ....C=1000, gamma=0.01, kernel=rbf;, score=0.543 total time=   0.0s\n",
      "[CV 2/5] END ....C=1000, gamma=0.01, kernel=rbf;, score=0.562 total time=   0.0s\n",
      "[CV 3/5] END ....C=1000, gamma=0.01, kernel=rbf;, score=0.550 total time=   0.0s\n",
      "[CV 4/5] END ....C=1000, gamma=0.01, kernel=rbf;, score=0.550 total time=   0.0s\n",
      "[CV 5/5] END ....C=1000, gamma=0.01, kernel=rbf;, score=0.507 total time=   0.0s\n",
      "[CV 1/5] END ...C=1000, gamma=0.001, kernel=rbf;, score=0.586 total time=   0.1s\n",
      "[CV 2/5] END ...C=1000, gamma=0.001, kernel=rbf;, score=0.624 total time=   0.1s\n",
      "[CV 3/5] END ...C=1000, gamma=0.001, kernel=rbf;, score=0.593 total time=   0.1s\n",
      "[CV 4/5] END ...C=1000, gamma=0.001, kernel=rbf;, score=0.598 total time=   0.2s\n",
      "[CV 5/5] END ...C=1000, gamma=0.001, kernel=rbf;, score=0.608 total time=   0.1s\n",
      "[CV 1/5] END ..C=1000, gamma=0.0001, kernel=rbf;, score=0.700 total time=   0.4s\n",
      "[CV 2/5] END ..C=1000, gamma=0.0001, kernel=rbf;, score=0.719 total time=   0.4s\n",
      "[CV 3/5] END ..C=1000, gamma=0.0001, kernel=rbf;, score=0.809 total time=   0.2s\n",
      "[CV 4/5] END ..C=1000, gamma=0.0001, kernel=rbf;, score=0.689 total time=   0.3s\n",
      "[CV 5/5] END ..C=1000, gamma=0.0001, kernel=rbf;, score=0.718 total time=   0.2s\n",
      "Evaluasi pembelajaran SVM after tuning dengan metrics II.1:\n",
      "\n",
      "              precision    recall  f1-score   support\n",
      "\n",
      "         0.0       0.75      0.82      0.79       156\n",
      "         1.0       0.70      0.60      0.65       106\n",
      "\n",
      "    accuracy                           0.73       262\n",
      "   macro avg       0.72      0.71      0.72       262\n",
      "weighted avg       0.73      0.73      0.73       262\n",
      "\n",
      "precision hasil prediksi SVM setelah tuning : 0.6956521739130435\n",
      "recall hasil prediksi SVM setelah tuning : 0.6037735849056604\n",
      "f1 score hasil prediksi SVM setelah tuning : 0.6464646464646465\n",
      "Accuracy hasil prediksi SVM setelah tuning : 0.732824427480916\n",
      "\n",
      "Cross validation score: [0.63809524 0.64761905 0.63636364 0.64114833 0.62200957]\n"
     ]
    }
   ],
   "source": [
    "# II.4\n",
    "\n",
    "# 1. Pembelajaran dengan model SVM\n",
    "svc = SVC()\n",
    "svc.fit(x_train, y_train)\n",
    "titanic_SVM_pred = svc.predict(x_test)\n",
    "print(\"Evaluasi pembelajaran SVM dengan metrics II.1: \\n\")\n",
    "print(classification_report(y_test, titanic_SVM_pred))\n",
    "print(\"precision hasil prediksi SVM :\", precision_score(y_test, titanic_SVM_pred))\n",
    "print(\"recall hasil prediksi SVM :\", recall_score(y_test, titanic_SVM_pred))\n",
    "print(\"f1 score hasil prediksi SVM :\", f1_score(y_test, titanic_SVM_pred))\n",
    "print(\"Accuracy hasil prediksi SVM :\",accuracy_score(y_test, titanic_SVM_pred))\n",
    "print(\"\\nConfusion matrix: \\n\")\n",
    "print(pd.DataFrame(confusion_matrix(y_test, titanic_SVM_pred),columns=['Predicted No','Predicted Yes'],index=['Actual No','Actual Yes']))\n",
    "\n",
    "# 2. Hyperparameter tuning\n",
    "param_grid = {'C': [0.1, 1, 10, 100, 1000],\n",
    "              'gamma': [1, 0.1, 0.01, 0.001, 0.0001],\n",
    "              'kernel': ['rbf']}\n",
    "svm_after_tuning = GridSearchCV(svc, param_grid, refit = True, verbose = 3)\n",
    "svm_after_tuning.fit(x_train, y_train)\n",
    "titanic_SVM_after_tuning_pred = svm_after_tuning.predict(x_test) \n",
    "print(\"Evaluasi pembelajaran SVM after tuning dengan metrics II.1:\\n\")\n",
    "print(classification_report(y_test, titanic_SVM_after_tuning_pred))\n",
    "print(\"precision hasil prediksi SVM setelah tuning :\", precision_score(y_test, titanic_SVM_after_tuning_pred))\n",
    "print(\"recall hasil prediksi SVM setelah tuning :\", recall_score(y_test, titanic_SVM_after_tuning_pred))\n",
    "print(\"f1 score hasil prediksi SVM setelah tuning :\", f1_score(y_test, titanic_SVM_after_tuning_pred))\n",
    "print(\"Accuracy hasil prediksi SVM setelah tuning :\",accuracy_score(y_test, titanic_SVM_after_tuning_pred))\n",
    "\n",
    "# 3. Cross validation\n",
    "crossval_score = cross_val_score(svc, x_train, y_train.values.ravel(), cv=5)\n",
    "print(f\"\\nCross validation score: {crossval_score}\")"
   ]
  },
  {
   "cell_type": "markdown",
   "metadata": {
    "id": "5ePIGuRZuNZb"
   },
   "source": [
    "# III. Improvement\n",
    "Terdapat beberapa metode untuk melakukan peningkatan performa, contohnya adalah:\n",
    "1. Melakukan oversampling / undersampling pada data\n",
    "2. Menggabungkan beberapa model \n",
    "\n",
    "Pada bagian ini, kalian diharapkan dapat:\n",
    "1. Melakukan training dengan data hasil oversampling / undersampling dan melakukan validasi dengan benar\n",
    "2. Memahami beberapa metode untuk menggabungkan beberapa model"
   ]
  },
  {
   "cell_type": "markdown",
   "metadata": {
    "id": "NGgjXVqf1vhN"
   },
   "source": [
    "## III.1\n",
    "Lakukanlah:\n",
    "1. Oversampling pada kelas minoritas pada data train, kemudian train dengan model *baseline* (II.3), lakukan validasi dengan data validasi. Data train dan validasi adalah data yang kalian bagi pada bagian II.2\n",
    "2. Undersampling pada kelas mayoritas pada data train, kemudian train dengan model *baseline* (II.3) lakukan validasi dengan data validasi. Data train dan validasi adalah data yang kalian bagi pada bagian II.2"
   ]
  },
  {
   "cell_type": "code",
   "execution_count": 130,
   "metadata": {
    "id": "bLLLsyoF2GIM"
   },
   "outputs": [
    {
     "name": "stdout",
     "output_type": "stream",
     "text": [
      "Evaluasi pembelajaran baseline model oversampling dengan metrics II.1:\n",
      "\n",
      "              precision    recall  f1-score   support\n",
      "\n",
      "         0.0       0.77      0.86      0.81       156\n",
      "         1.0       0.75      0.62      0.68       106\n",
      "\n",
      "    accuracy                           0.76       262\n",
      "   macro avg       0.76      0.74      0.75       262\n",
      "weighted avg       0.76      0.76      0.76       262\n",
      "\n",
      "precision hasil prediksi: 0.75\n",
      "recall hasil prediksi: 0.6226415094339622\n",
      "f1 score hasil prediksi: 0.6804123711340205\n",
      "Accuracy hasil prediksi: 0.7633587786259542\n",
      "\n",
      "Cross validation score: [0.74761905 0.76666667 0.85645933 0.79425837 0.80382775]\n"
     ]
    },
    {
     "name": "stderr",
     "output_type": "stream",
     "text": [
      "C:\\Users\\ASUS\\AppData\\Local\\Programs\\Python\\Python39\\lib\\site-packages\\sklearn\\linear_model\\_logistic.py:814: ConvergenceWarning: lbfgs failed to converge (status=1):\n",
      "STOP: TOTAL NO. of ITERATIONS REACHED LIMIT.\n",
      "\n",
      "Increase the number of iterations (max_iter) or scale the data as shown in:\n",
      "    https://scikit-learn.org/stable/modules/preprocessing.html\n",
      "Please also refer to the documentation for alternative solver options:\n",
      "    https://scikit-learn.org/stable/modules/linear_model.html#logistic-regression\n",
      "  n_iter_i = _check_optimize_result(\n",
      "C:\\Users\\ASUS\\AppData\\Local\\Programs\\Python\\Python39\\lib\\site-packages\\sklearn\\linear_model\\_logistic.py:814: ConvergenceWarning: lbfgs failed to converge (status=1):\n",
      "STOP: TOTAL NO. of ITERATIONS REACHED LIMIT.\n",
      "\n",
      "Increase the number of iterations (max_iter) or scale the data as shown in:\n",
      "    https://scikit-learn.org/stable/modules/preprocessing.html\n",
      "Please also refer to the documentation for alternative solver options:\n",
      "    https://scikit-learn.org/stable/modules/linear_model.html#logistic-regression\n",
      "  n_iter_i = _check_optimize_result(\n",
      "C:\\Users\\ASUS\\AppData\\Local\\Programs\\Python\\Python39\\lib\\site-packages\\sklearn\\linear_model\\_logistic.py:814: ConvergenceWarning: lbfgs failed to converge (status=1):\n",
      "STOP: TOTAL NO. of ITERATIONS REACHED LIMIT.\n",
      "\n",
      "Increase the number of iterations (max_iter) or scale the data as shown in:\n",
      "    https://scikit-learn.org/stable/modules/preprocessing.html\n",
      "Please also refer to the documentation for alternative solver options:\n",
      "    https://scikit-learn.org/stable/modules/linear_model.html#logistic-regression\n",
      "  n_iter_i = _check_optimize_result(\n",
      "C:\\Users\\ASUS\\AppData\\Local\\Programs\\Python\\Python39\\lib\\site-packages\\sklearn\\linear_model\\_logistic.py:814: ConvergenceWarning: lbfgs failed to converge (status=1):\n",
      "STOP: TOTAL NO. of ITERATIONS REACHED LIMIT.\n",
      "\n",
      "Increase the number of iterations (max_iter) or scale the data as shown in:\n",
      "    https://scikit-learn.org/stable/modules/preprocessing.html\n",
      "Please also refer to the documentation for alternative solver options:\n",
      "    https://scikit-learn.org/stable/modules/linear_model.html#logistic-regression\n",
      "  n_iter_i = _check_optimize_result(\n",
      "C:\\Users\\ASUS\\AppData\\Local\\Programs\\Python\\Python39\\lib\\site-packages\\sklearn\\linear_model\\_logistic.py:814: ConvergenceWarning: lbfgs failed to converge (status=1):\n",
      "STOP: TOTAL NO. of ITERATIONS REACHED LIMIT.\n",
      "\n",
      "Increase the number of iterations (max_iter) or scale the data as shown in:\n",
      "    https://scikit-learn.org/stable/modules/preprocessing.html\n",
      "Please also refer to the documentation for alternative solver options:\n",
      "    https://scikit-learn.org/stable/modules/linear_model.html#logistic-regression\n",
      "  n_iter_i = _check_optimize_result(\n",
      "C:\\Users\\ASUS\\AppData\\Local\\Programs\\Python\\Python39\\lib\\site-packages\\sklearn\\linear_model\\_logistic.py:814: ConvergenceWarning: lbfgs failed to converge (status=1):\n",
      "STOP: TOTAL NO. of ITERATIONS REACHED LIMIT.\n",
      "\n",
      "Increase the number of iterations (max_iter) or scale the data as shown in:\n",
      "    https://scikit-learn.org/stable/modules/preprocessing.html\n",
      "Please also refer to the documentation for alternative solver options:\n",
      "    https://scikit-learn.org/stable/modules/linear_model.html#logistic-regression\n",
      "  n_iter_i = _check_optimize_result(\n"
     ]
    }
   ],
   "source": [
    "# III.1 \n",
    "over_sampler = RandomOverSampler(sampling_strategy=\"not majority\", random_state=42)\n",
    "os_x_train, os_y_train = over_sampler.fit_resample(x_train, y_train)\n",
    "\n",
    "lr.fit(os_x_train, os_y_train)\n",
    "titanic_oversample_pred = lr.predict(x_test)\n",
    "print(\"Evaluasi pembelajaran baseline model oversampling dengan metrics II.1:\\n\")\n",
    "print(classification_report(y_test, titanic_oversample_pred))\n",
    "print(\"precision hasil prediksi:\", precision_score(y_test, titanic_oversample_pred))\n",
    "print(\"recall hasil prediksi:\", recall_score(y_test, titanic_oversample_pred))\n",
    "print(\"f1 score hasil prediksi:\", f1_score(y_test, titanic_oversample_pred))\n",
    "print(\"Accuracy hasil prediksi:\",accuracy_score(y_test, titanic_oversample_pred))\n",
    "\n",
    "crossval_score = cross_val_score(lr, x_train, y_train.values.ravel(), cv=5)\n",
    "print(f\"\\nCross validation score: {crossval_score}\")"
   ]
  },
  {
   "cell_type": "code",
   "execution_count": 131,
   "metadata": {},
   "outputs": [
    {
     "name": "stdout",
     "output_type": "stream",
     "text": [
      "Evaluasi pembelajaran baseline model undersampling dengan metrics II.1:\n",
      "\n",
      "              precision    recall  f1-score   support\n",
      "\n",
      "         0.0       0.77      0.86      0.81       156\n",
      "         1.0       0.75      0.62      0.68       106\n",
      "\n",
      "    accuracy                           0.76       262\n",
      "   macro avg       0.76      0.74      0.75       262\n",
      "weighted avg       0.76      0.76      0.76       262\n",
      "\n",
      "precision hasil prediksi: 0.75\n",
      "recall hasil prediksi: 0.6226415094339622\n",
      "f1 score hasil prediksi: 0.6804123711340205\n",
      "Accuracy hasil prediksi: 0.7633587786259542\n"
     ]
    },
    {
     "name": "stderr",
     "output_type": "stream",
     "text": [
      "C:\\Users\\ASUS\\AppData\\Local\\Programs\\Python\\Python39\\lib\\site-packages\\sklearn\\linear_model\\_logistic.py:814: ConvergenceWarning: lbfgs failed to converge (status=1):\n",
      "STOP: TOTAL NO. of ITERATIONS REACHED LIMIT.\n",
      "\n",
      "Increase the number of iterations (max_iter) or scale the data as shown in:\n",
      "    https://scikit-learn.org/stable/modules/preprocessing.html\n",
      "Please also refer to the documentation for alternative solver options:\n",
      "    https://scikit-learn.org/stable/modules/linear_model.html#logistic-regression\n",
      "  n_iter_i = _check_optimize_result(\n",
      "C:\\Users\\ASUS\\AppData\\Local\\Programs\\Python\\Python39\\lib\\site-packages\\sklearn\\linear_model\\_logistic.py:814: ConvergenceWarning: lbfgs failed to converge (status=1):\n",
      "STOP: TOTAL NO. of ITERATIONS REACHED LIMIT.\n",
      "\n",
      "Increase the number of iterations (max_iter) or scale the data as shown in:\n",
      "    https://scikit-learn.org/stable/modules/preprocessing.html\n",
      "Please also refer to the documentation for alternative solver options:\n",
      "    https://scikit-learn.org/stable/modules/linear_model.html#logistic-regression\n",
      "  n_iter_i = _check_optimize_result(\n",
      "C:\\Users\\ASUS\\AppData\\Local\\Programs\\Python\\Python39\\lib\\site-packages\\sklearn\\linear_model\\_logistic.py:814: ConvergenceWarning: lbfgs failed to converge (status=1):\n",
      "STOP: TOTAL NO. of ITERATIONS REACHED LIMIT.\n",
      "\n",
      "Increase the number of iterations (max_iter) or scale the data as shown in:\n",
      "    https://scikit-learn.org/stable/modules/preprocessing.html\n",
      "Please also refer to the documentation for alternative solver options:\n",
      "    https://scikit-learn.org/stable/modules/linear_model.html#logistic-regression\n",
      "  n_iter_i = _check_optimize_result(\n",
      "C:\\Users\\ASUS\\AppData\\Local\\Programs\\Python\\Python39\\lib\\site-packages\\sklearn\\linear_model\\_logistic.py:814: ConvergenceWarning: lbfgs failed to converge (status=1):\n",
      "STOP: TOTAL NO. of ITERATIONS REACHED LIMIT.\n",
      "\n",
      "Increase the number of iterations (max_iter) or scale the data as shown in:\n",
      "    https://scikit-learn.org/stable/modules/preprocessing.html\n",
      "Please also refer to the documentation for alternative solver options:\n",
      "    https://scikit-learn.org/stable/modules/linear_model.html#logistic-regression\n",
      "  n_iter_i = _check_optimize_result(\n",
      "C:\\Users\\ASUS\\AppData\\Local\\Programs\\Python\\Python39\\lib\\site-packages\\sklearn\\linear_model\\_logistic.py:814: ConvergenceWarning: lbfgs failed to converge (status=1):\n",
      "STOP: TOTAL NO. of ITERATIONS REACHED LIMIT.\n",
      "\n",
      "Increase the number of iterations (max_iter) or scale the data as shown in:\n",
      "    https://scikit-learn.org/stable/modules/preprocessing.html\n",
      "Please also refer to the documentation for alternative solver options:\n",
      "    https://scikit-learn.org/stable/modules/linear_model.html#logistic-regression\n",
      "  n_iter_i = _check_optimize_result(\n",
      "C:\\Users\\ASUS\\AppData\\Local\\Programs\\Python\\Python39\\lib\\site-packages\\sklearn\\linear_model\\_logistic.py:814: ConvergenceWarning: lbfgs failed to converge (status=1):\n",
      "STOP: TOTAL NO. of ITERATIONS REACHED LIMIT.\n",
      "\n",
      "Increase the number of iterations (max_iter) or scale the data as shown in:\n",
      "    https://scikit-learn.org/stable/modules/preprocessing.html\n",
      "Please also refer to the documentation for alternative solver options:\n",
      "    https://scikit-learn.org/stable/modules/linear_model.html#logistic-regression\n",
      "  n_iter_i = _check_optimize_result(\n"
     ]
    },
    {
     "name": "stdout",
     "output_type": "stream",
     "text": [
      "\n",
      "Cross validation score: [0.74761905 0.76666667 0.85645933 0.79425837 0.80382775]\n"
     ]
    }
   ],
   "source": [
    "under_sampler = RandomUnderSampler(sampling_strategy=1, random_state=42)\n",
    "us_x_train, us_y_train = under_sampler.fit_resample(x_train, y_train)\n",
    "\n",
    "lr.fit(os_x_train, os_y_train)\n",
    "titanic_undersample_pred = lr.predict(x_test)\n",
    "print(\"Evaluasi pembelajaran baseline model undersampling dengan metrics II.1:\\n\")\n",
    "print(classification_report(y_test, titanic_undersample_pred))\n",
    "print(\"precision hasil prediksi:\", precision_score(y_test, titanic_undersample_pred))\n",
    "print(\"recall hasil prediksi:\", recall_score(y_test, titanic_undersample_pred))\n",
    "print(\"f1 score hasil prediksi:\", f1_score(y_test, titanic_undersample_pred))\n",
    "print(\"Accuracy hasil prediksi:\",accuracy_score(y_test, titanic_undersample_pred))\n",
    "\n",
    "crossval_score = cross_val_score(lr, x_train, y_train.values.ravel(), cv=5)\n",
    "print(f\"\\nCross validation score: {crossval_score}\")"
   ]
  },
  {
   "cell_type": "markdown",
   "metadata": {
    "id": "FtbGHN3P2Fxe"
   },
   "source": [
    "## III.2\n",
    "Lakukanlah:\n",
    "1. Eksplorasi soft voting, hard voting, dan stacking\n",
    "2. Buatlah model Logistic Regression dan SVM (boleh menggunakan model dengan beberapa parameter yang berbeda)\n",
    "3. Lakukanlah soft voting dari model-model yang sudah kalian buat pada poin 2\n",
    "4. Lakukan hard voting dari model-model yang sudah kalian buat pada poin 2\n",
    "5. Lakukanlah stacking dengan final classifier adalah Logistic Regression dari model-model yang sudah kalian buat pada poin 2\n",
    "6. Lakukan validasi dengan metrics yang kalian tentukan untuk poin 3, 4, dan 5"
   ]
  },
  {
   "cell_type": "markdown",
   "metadata": {
    "id": "NfGqy72SAZ-t"
   },
   "source": [
    "Put your answer for section III.2 point 1 here"
   ]
  },
  {
   "cell_type": "code",
   "execution_count": 132,
   "metadata": {
    "id": "zdchguBQtErx"
   },
   "outputs": [
    {
     "name": "stderr",
     "output_type": "stream",
     "text": [
      "C:\\Users\\ASUS\\AppData\\Local\\Programs\\Python\\Python39\\lib\\site-packages\\sklearn\\linear_model\\_logistic.py:814: ConvergenceWarning: lbfgs failed to converge (status=1):\n",
      "STOP: TOTAL NO. of ITERATIONS REACHED LIMIT.\n",
      "\n",
      "Increase the number of iterations (max_iter) or scale the data as shown in:\n",
      "    https://scikit-learn.org/stable/modules/preprocessing.html\n",
      "Please also refer to the documentation for alternative solver options:\n",
      "    https://scikit-learn.org/stable/modules/linear_model.html#logistic-regression\n",
      "  n_iter_i = _check_optimize_result(\n"
     ]
    },
    {
     "name": "stdout",
     "output_type": "stream",
     "text": [
      "Evaluasi pembelajaran dengan soft voting dengan metrics II.1:\n",
      "\n",
      "              precision    recall  f1-score   support\n",
      "\n",
      "         0.0       0.67      0.98      0.79       156\n",
      "         1.0       0.91      0.28      0.43       106\n",
      "\n",
      "    accuracy                           0.70       262\n",
      "   macro avg       0.79      0.63      0.61       262\n",
      "weighted avg       0.77      0.70      0.65       262\n",
      "\n",
      "precision hasil prediksi: 0.9090909090909091\n",
      "recall hasil prediksi: 0.2830188679245283\n",
      "f1 score hasil prediksi: 0.4316546762589928\n",
      "Accuracy hasil prediksi: 0.6984732824427481\n"
     ]
    },
    {
     "name": "stderr",
     "output_type": "stream",
     "text": [
      "C:\\Users\\ASUS\\AppData\\Local\\Programs\\Python\\Python39\\lib\\site-packages\\sklearn\\linear_model\\_logistic.py:814: ConvergenceWarning: lbfgs failed to converge (status=1):\n",
      "STOP: TOTAL NO. of ITERATIONS REACHED LIMIT.\n",
      "\n",
      "Increase the number of iterations (max_iter) or scale the data as shown in:\n",
      "    https://scikit-learn.org/stable/modules/preprocessing.html\n",
      "Please also refer to the documentation for alternative solver options:\n",
      "    https://scikit-learn.org/stable/modules/linear_model.html#logistic-regression\n",
      "  n_iter_i = _check_optimize_result(\n",
      "C:\\Users\\ASUS\\AppData\\Local\\Programs\\Python\\Python39\\lib\\site-packages\\sklearn\\linear_model\\_logistic.py:814: ConvergenceWarning: lbfgs failed to converge (status=1):\n",
      "STOP: TOTAL NO. of ITERATIONS REACHED LIMIT.\n",
      "\n",
      "Increase the number of iterations (max_iter) or scale the data as shown in:\n",
      "    https://scikit-learn.org/stable/modules/preprocessing.html\n",
      "Please also refer to the documentation for alternative solver options:\n",
      "    https://scikit-learn.org/stable/modules/linear_model.html#logistic-regression\n",
      "  n_iter_i = _check_optimize_result(\n",
      "C:\\Users\\ASUS\\AppData\\Local\\Programs\\Python\\Python39\\lib\\site-packages\\sklearn\\linear_model\\_logistic.py:814: ConvergenceWarning: lbfgs failed to converge (status=1):\n",
      "STOP: TOTAL NO. of ITERATIONS REACHED LIMIT.\n",
      "\n",
      "Increase the number of iterations (max_iter) or scale the data as shown in:\n",
      "    https://scikit-learn.org/stable/modules/preprocessing.html\n",
      "Please also refer to the documentation for alternative solver options:\n",
      "    https://scikit-learn.org/stable/modules/linear_model.html#logistic-regression\n",
      "  n_iter_i = _check_optimize_result(\n",
      "C:\\Users\\ASUS\\AppData\\Local\\Programs\\Python\\Python39\\lib\\site-packages\\sklearn\\linear_model\\_logistic.py:814: ConvergenceWarning: lbfgs failed to converge (status=1):\n",
      "STOP: TOTAL NO. of ITERATIONS REACHED LIMIT.\n",
      "\n",
      "Increase the number of iterations (max_iter) or scale the data as shown in:\n",
      "    https://scikit-learn.org/stable/modules/preprocessing.html\n",
      "Please also refer to the documentation for alternative solver options:\n",
      "    https://scikit-learn.org/stable/modules/linear_model.html#logistic-regression\n",
      "  n_iter_i = _check_optimize_result(\n",
      "C:\\Users\\ASUS\\AppData\\Local\\Programs\\Python\\Python39\\lib\\site-packages\\sklearn\\linear_model\\_logistic.py:814: ConvergenceWarning: lbfgs failed to converge (status=1):\n",
      "STOP: TOTAL NO. of ITERATIONS REACHED LIMIT.\n",
      "\n",
      "Increase the number of iterations (max_iter) or scale the data as shown in:\n",
      "    https://scikit-learn.org/stable/modules/preprocessing.html\n",
      "Please also refer to the documentation for alternative solver options:\n",
      "    https://scikit-learn.org/stable/modules/linear_model.html#logistic-regression\n",
      "  n_iter_i = _check_optimize_result(\n"
     ]
    },
    {
     "name": "stdout",
     "output_type": "stream",
     "text": [
      "\n",
      "Cross validation score: [0.7        0.71428571 0.75598086 0.74162679 0.72248804]\n"
     ]
    },
    {
     "name": "stderr",
     "output_type": "stream",
     "text": [
      "C:\\Users\\ASUS\\AppData\\Local\\Programs\\Python\\Python39\\lib\\site-packages\\sklearn\\linear_model\\_logistic.py:814: ConvergenceWarning: lbfgs failed to converge (status=1):\n",
      "STOP: TOTAL NO. of ITERATIONS REACHED LIMIT.\n",
      "\n",
      "Increase the number of iterations (max_iter) or scale the data as shown in:\n",
      "    https://scikit-learn.org/stable/modules/preprocessing.html\n",
      "Please also refer to the documentation for alternative solver options:\n",
      "    https://scikit-learn.org/stable/modules/linear_model.html#logistic-regression\n",
      "  n_iter_i = _check_optimize_result(\n"
     ]
    },
    {
     "name": "stdout",
     "output_type": "stream",
     "text": [
      "Evaluasi pembelajaran dengan hard voting dengan metrics II.1:\n",
      "\n",
      "              precision    recall  f1-score   support\n",
      "\n",
      "         0.0       0.67      0.98      0.79       156\n",
      "         1.0       0.91      0.28      0.43       106\n",
      "\n",
      "    accuracy                           0.70       262\n",
      "   macro avg       0.79      0.63      0.61       262\n",
      "weighted avg       0.77      0.70      0.65       262\n",
      "\n",
      "precision hasil prediksi: 0.9090909090909091\n",
      "recall hasil prediksi: 0.2830188679245283\n",
      "f1 score hasil prediksi: 0.4316546762589928\n",
      "Accuracy hasil prediksi: 0.6984732824427481\n"
     ]
    },
    {
     "name": "stderr",
     "output_type": "stream",
     "text": [
      "C:\\Users\\ASUS\\AppData\\Local\\Programs\\Python\\Python39\\lib\\site-packages\\sklearn\\linear_model\\_logistic.py:814: ConvergenceWarning: lbfgs failed to converge (status=1):\n",
      "STOP: TOTAL NO. of ITERATIONS REACHED LIMIT.\n",
      "\n",
      "Increase the number of iterations (max_iter) or scale the data as shown in:\n",
      "    https://scikit-learn.org/stable/modules/preprocessing.html\n",
      "Please also refer to the documentation for alternative solver options:\n",
      "    https://scikit-learn.org/stable/modules/linear_model.html#logistic-regression\n",
      "  n_iter_i = _check_optimize_result(\n",
      "C:\\Users\\ASUS\\AppData\\Local\\Programs\\Python\\Python39\\lib\\site-packages\\sklearn\\linear_model\\_logistic.py:814: ConvergenceWarning: lbfgs failed to converge (status=1):\n",
      "STOP: TOTAL NO. of ITERATIONS REACHED LIMIT.\n",
      "\n",
      "Increase the number of iterations (max_iter) or scale the data as shown in:\n",
      "    https://scikit-learn.org/stable/modules/preprocessing.html\n",
      "Please also refer to the documentation for alternative solver options:\n",
      "    https://scikit-learn.org/stable/modules/linear_model.html#logistic-regression\n",
      "  n_iter_i = _check_optimize_result(\n",
      "C:\\Users\\ASUS\\AppData\\Local\\Programs\\Python\\Python39\\lib\\site-packages\\sklearn\\linear_model\\_logistic.py:814: ConvergenceWarning: lbfgs failed to converge (status=1):\n",
      "STOP: TOTAL NO. of ITERATIONS REACHED LIMIT.\n",
      "\n",
      "Increase the number of iterations (max_iter) or scale the data as shown in:\n",
      "    https://scikit-learn.org/stable/modules/preprocessing.html\n",
      "Please also refer to the documentation for alternative solver options:\n",
      "    https://scikit-learn.org/stable/modules/linear_model.html#logistic-regression\n",
      "  n_iter_i = _check_optimize_result(\n",
      "C:\\Users\\ASUS\\AppData\\Local\\Programs\\Python\\Python39\\lib\\site-packages\\sklearn\\linear_model\\_logistic.py:814: ConvergenceWarning: lbfgs failed to converge (status=1):\n",
      "STOP: TOTAL NO. of ITERATIONS REACHED LIMIT.\n",
      "\n",
      "Increase the number of iterations (max_iter) or scale the data as shown in:\n",
      "    https://scikit-learn.org/stable/modules/preprocessing.html\n",
      "Please also refer to the documentation for alternative solver options:\n",
      "    https://scikit-learn.org/stable/modules/linear_model.html#logistic-regression\n",
      "  n_iter_i = _check_optimize_result(\n",
      "C:\\Users\\ASUS\\AppData\\Local\\Programs\\Python\\Python39\\lib\\site-packages\\sklearn\\linear_model\\_logistic.py:814: ConvergenceWarning: lbfgs failed to converge (status=1):\n",
      "STOP: TOTAL NO. of ITERATIONS REACHED LIMIT.\n",
      "\n",
      "Increase the number of iterations (max_iter) or scale the data as shown in:\n",
      "    https://scikit-learn.org/stable/modules/preprocessing.html\n",
      "Please also refer to the documentation for alternative solver options:\n",
      "    https://scikit-learn.org/stable/modules/linear_model.html#logistic-regression\n",
      "  n_iter_i = _check_optimize_result(\n"
     ]
    },
    {
     "name": "stdout",
     "output_type": "stream",
     "text": [
      "\n",
      "Cross validation score: [0.64285714 0.65238095 0.64593301 0.64114833 0.63157895]\n"
     ]
    },
    {
     "name": "stderr",
     "output_type": "stream",
     "text": [
      "C:\\Users\\ASUS\\AppData\\Local\\Programs\\Python\\Python39\\lib\\site-packages\\sklearn\\linear_model\\_logistic.py:814: ConvergenceWarning: lbfgs failed to converge (status=1):\n",
      "STOP: TOTAL NO. of ITERATIONS REACHED LIMIT.\n",
      "\n",
      "Increase the number of iterations (max_iter) or scale the data as shown in:\n",
      "    https://scikit-learn.org/stable/modules/preprocessing.html\n",
      "Please also refer to the documentation for alternative solver options:\n",
      "    https://scikit-learn.org/stable/modules/linear_model.html#logistic-regression\n",
      "  n_iter_i = _check_optimize_result(\n",
      "C:\\Users\\ASUS\\AppData\\Local\\Programs\\Python\\Python39\\lib\\site-packages\\sklearn\\linear_model\\_logistic.py:814: ConvergenceWarning: lbfgs failed to converge (status=1):\n",
      "STOP: TOTAL NO. of ITERATIONS REACHED LIMIT.\n",
      "\n",
      "Increase the number of iterations (max_iter) or scale the data as shown in:\n",
      "    https://scikit-learn.org/stable/modules/preprocessing.html\n",
      "Please also refer to the documentation for alternative solver options:\n",
      "    https://scikit-learn.org/stable/modules/linear_model.html#logistic-regression\n",
      "  n_iter_i = _check_optimize_result(\n",
      "C:\\Users\\ASUS\\AppData\\Local\\Programs\\Python\\Python39\\lib\\site-packages\\sklearn\\linear_model\\_logistic.py:814: ConvergenceWarning: lbfgs failed to converge (status=1):\n",
      "STOP: TOTAL NO. of ITERATIONS REACHED LIMIT.\n",
      "\n",
      "Increase the number of iterations (max_iter) or scale the data as shown in:\n",
      "    https://scikit-learn.org/stable/modules/preprocessing.html\n",
      "Please also refer to the documentation for alternative solver options:\n",
      "    https://scikit-learn.org/stable/modules/linear_model.html#logistic-regression\n",
      "  n_iter_i = _check_optimize_result(\n",
      "C:\\Users\\ASUS\\AppData\\Local\\Programs\\Python\\Python39\\lib\\site-packages\\sklearn\\linear_model\\_logistic.py:814: ConvergenceWarning: lbfgs failed to converge (status=1):\n",
      "STOP: TOTAL NO. of ITERATIONS REACHED LIMIT.\n",
      "\n",
      "Increase the number of iterations (max_iter) or scale the data as shown in:\n",
      "    https://scikit-learn.org/stable/modules/preprocessing.html\n",
      "Please also refer to the documentation for alternative solver options:\n",
      "    https://scikit-learn.org/stable/modules/linear_model.html#logistic-regression\n",
      "  n_iter_i = _check_optimize_result(\n",
      "C:\\Users\\ASUS\\AppData\\Local\\Programs\\Python\\Python39\\lib\\site-packages\\sklearn\\linear_model\\_logistic.py:814: ConvergenceWarning: lbfgs failed to converge (status=1):\n",
      "STOP: TOTAL NO. of ITERATIONS REACHED LIMIT.\n",
      "\n",
      "Increase the number of iterations (max_iter) or scale the data as shown in:\n",
      "    https://scikit-learn.org/stable/modules/preprocessing.html\n",
      "Please also refer to the documentation for alternative solver options:\n",
      "    https://scikit-learn.org/stable/modules/linear_model.html#logistic-regression\n",
      "  n_iter_i = _check_optimize_result(\n",
      "C:\\Users\\ASUS\\AppData\\Local\\Programs\\Python\\Python39\\lib\\site-packages\\sklearn\\linear_model\\_logistic.py:814: ConvergenceWarning: lbfgs failed to converge (status=1):\n",
      "STOP: TOTAL NO. of ITERATIONS REACHED LIMIT.\n",
      "\n",
      "Increase the number of iterations (max_iter) or scale the data as shown in:\n",
      "    https://scikit-learn.org/stable/modules/preprocessing.html\n",
      "Please also refer to the documentation for alternative solver options:\n",
      "    https://scikit-learn.org/stable/modules/linear_model.html#logistic-regression\n",
      "  n_iter_i = _check_optimize_result(\n"
     ]
    },
    {
     "name": "stdout",
     "output_type": "stream",
     "text": [
      "Evaluasi pembelajaran dengan stacking dengan metrics II.1:\n",
      "\n"
     ]
    },
    {
     "ename": "ValueError",
     "evalue": "Found input variables with inconsistent numbers of samples: [262, 1047]",
     "output_type": "error",
     "traceback": [
      "\u001b[1;31m---------------------------------------------------------------------------\u001b[0m",
      "\u001b[1;31mValueError\u001b[0m                                Traceback (most recent call last)",
      "\u001b[1;32m<ipython-input-132-bb213808e37a>\u001b[0m in \u001b[0;36m<module>\u001b[1;34m\u001b[0m\n\u001b[0;32m     40\u001b[0m \u001b[1;33m\u001b[0m\u001b[0m\n\u001b[0;32m     41\u001b[0m \u001b[0mprint\u001b[0m\u001b[1;33m(\u001b[0m\u001b[1;34m\"Evaluasi pembelajaran dengan stacking dengan metrics II.1:\\n\"\u001b[0m\u001b[1;33m)\u001b[0m\u001b[1;33m\u001b[0m\u001b[1;33m\u001b[0m\u001b[0m\n\u001b[1;32m---> 42\u001b[1;33m \u001b[0mprint\u001b[0m\u001b[1;33m(\u001b[0m\u001b[0mclassification_report\u001b[0m\u001b[1;33m(\u001b[0m\u001b[0my_test\u001b[0m\u001b[1;33m,\u001b[0m \u001b[0mtitanic_stacking_prediction\u001b[0m\u001b[1;33m)\u001b[0m\u001b[1;33m)\u001b[0m\u001b[1;33m\u001b[0m\u001b[1;33m\u001b[0m\u001b[0m\n\u001b[0m\u001b[0;32m     43\u001b[0m \u001b[0mprint\u001b[0m\u001b[1;33m(\u001b[0m\u001b[1;34m\"precision hasil prediksi:\"\u001b[0m\u001b[1;33m,\u001b[0m \u001b[0mprecision_score\u001b[0m\u001b[1;33m(\u001b[0m\u001b[0my_test\u001b[0m\u001b[1;33m,\u001b[0m \u001b[0mtitanic_stacking_prediction\u001b[0m\u001b[1;33m)\u001b[0m\u001b[1;33m)\u001b[0m\u001b[1;33m\u001b[0m\u001b[1;33m\u001b[0m\u001b[0m\n\u001b[0;32m     44\u001b[0m \u001b[0mprint\u001b[0m\u001b[1;33m(\u001b[0m\u001b[1;34m\"recall hasil prediksi:\"\u001b[0m\u001b[1;33m,\u001b[0m \u001b[0mrecall_score\u001b[0m\u001b[1;33m(\u001b[0m\u001b[0my_test\u001b[0m\u001b[1;33m,\u001b[0m \u001b[0mtitanic_stacking_prediction\u001b[0m\u001b[1;33m)\u001b[0m\u001b[1;33m)\u001b[0m\u001b[1;33m\u001b[0m\u001b[1;33m\u001b[0m\u001b[0m\n",
      "\u001b[1;32m~\\AppData\\Local\\Programs\\Python\\Python39\\lib\\site-packages\\sklearn\\metrics\\_classification.py\u001b[0m in \u001b[0;36mclassification_report\u001b[1;34m(y_true, y_pred, labels, target_names, sample_weight, digits, output_dict, zero_division)\u001b[0m\n\u001b[0;32m   2108\u001b[0m     \"\"\"\n\u001b[0;32m   2109\u001b[0m \u001b[1;33m\u001b[0m\u001b[0m\n\u001b[1;32m-> 2110\u001b[1;33m     \u001b[0my_type\u001b[0m\u001b[1;33m,\u001b[0m \u001b[0my_true\u001b[0m\u001b[1;33m,\u001b[0m \u001b[0my_pred\u001b[0m \u001b[1;33m=\u001b[0m \u001b[0m_check_targets\u001b[0m\u001b[1;33m(\u001b[0m\u001b[0my_true\u001b[0m\u001b[1;33m,\u001b[0m \u001b[0my_pred\u001b[0m\u001b[1;33m)\u001b[0m\u001b[1;33m\u001b[0m\u001b[1;33m\u001b[0m\u001b[0m\n\u001b[0m\u001b[0;32m   2111\u001b[0m \u001b[1;33m\u001b[0m\u001b[0m\n\u001b[0;32m   2112\u001b[0m     \u001b[1;32mif\u001b[0m \u001b[0mlabels\u001b[0m \u001b[1;32mis\u001b[0m \u001b[1;32mNone\u001b[0m\u001b[1;33m:\u001b[0m\u001b[1;33m\u001b[0m\u001b[1;33m\u001b[0m\u001b[0m\n",
      "\u001b[1;32m~\\AppData\\Local\\Programs\\Python\\Python39\\lib\\site-packages\\sklearn\\metrics\\_classification.py\u001b[0m in \u001b[0;36m_check_targets\u001b[1;34m(y_true, y_pred)\u001b[0m\n\u001b[0;32m     82\u001b[0m     \u001b[0my_pred\u001b[0m \u001b[1;33m:\u001b[0m \u001b[0marray\u001b[0m \u001b[1;32mor\u001b[0m \u001b[0mindicator\u001b[0m \u001b[0mmatrix\u001b[0m\u001b[1;33m\u001b[0m\u001b[1;33m\u001b[0m\u001b[0m\n\u001b[0;32m     83\u001b[0m     \"\"\"\n\u001b[1;32m---> 84\u001b[1;33m     \u001b[0mcheck_consistent_length\u001b[0m\u001b[1;33m(\u001b[0m\u001b[0my_true\u001b[0m\u001b[1;33m,\u001b[0m \u001b[0my_pred\u001b[0m\u001b[1;33m)\u001b[0m\u001b[1;33m\u001b[0m\u001b[1;33m\u001b[0m\u001b[0m\n\u001b[0m\u001b[0;32m     85\u001b[0m     \u001b[0mtype_true\u001b[0m \u001b[1;33m=\u001b[0m \u001b[0mtype_of_target\u001b[0m\u001b[1;33m(\u001b[0m\u001b[0my_true\u001b[0m\u001b[1;33m)\u001b[0m\u001b[1;33m\u001b[0m\u001b[1;33m\u001b[0m\u001b[0m\n\u001b[0;32m     86\u001b[0m     \u001b[0mtype_pred\u001b[0m \u001b[1;33m=\u001b[0m \u001b[0mtype_of_target\u001b[0m\u001b[1;33m(\u001b[0m\u001b[0my_pred\u001b[0m\u001b[1;33m)\u001b[0m\u001b[1;33m\u001b[0m\u001b[1;33m\u001b[0m\u001b[0m\n",
      "\u001b[1;32m~\\AppData\\Local\\Programs\\Python\\Python39\\lib\\site-packages\\sklearn\\utils\\validation.py\u001b[0m in \u001b[0;36mcheck_consistent_length\u001b[1;34m(*arrays)\u001b[0m\n\u001b[0;32m    330\u001b[0m     \u001b[0muniques\u001b[0m \u001b[1;33m=\u001b[0m \u001b[0mnp\u001b[0m\u001b[1;33m.\u001b[0m\u001b[0munique\u001b[0m\u001b[1;33m(\u001b[0m\u001b[0mlengths\u001b[0m\u001b[1;33m)\u001b[0m\u001b[1;33m\u001b[0m\u001b[1;33m\u001b[0m\u001b[0m\n\u001b[0;32m    331\u001b[0m     \u001b[1;32mif\u001b[0m \u001b[0mlen\u001b[0m\u001b[1;33m(\u001b[0m\u001b[0muniques\u001b[0m\u001b[1;33m)\u001b[0m \u001b[1;33m>\u001b[0m \u001b[1;36m1\u001b[0m\u001b[1;33m:\u001b[0m\u001b[1;33m\u001b[0m\u001b[1;33m\u001b[0m\u001b[0m\n\u001b[1;32m--> 332\u001b[1;33m         raise ValueError(\n\u001b[0m\u001b[0;32m    333\u001b[0m             \u001b[1;34m\"Found input variables with inconsistent numbers of samples: %r\"\u001b[0m\u001b[1;33m\u001b[0m\u001b[1;33m\u001b[0m\u001b[0m\n\u001b[0;32m    334\u001b[0m             \u001b[1;33m%\u001b[0m \u001b[1;33m[\u001b[0m\u001b[0mint\u001b[0m\u001b[1;33m(\u001b[0m\u001b[0ml\u001b[0m\u001b[1;33m)\u001b[0m \u001b[1;32mfor\u001b[0m \u001b[0ml\u001b[0m \u001b[1;32min\u001b[0m \u001b[0mlengths\u001b[0m\u001b[1;33m]\u001b[0m\u001b[1;33m\u001b[0m\u001b[1;33m\u001b[0m\u001b[0m\n",
      "\u001b[1;31mValueError\u001b[0m: Found input variables with inconsistent numbers of samples: [262, 1047]"
     ]
    }
   ],
   "source": [
    "# III.2\n",
    "# 1.\n",
    "lr = LogisticRegression(random_state=42)\n",
    "svm1 = SVC(C=1, probability=True, random_state=42)\n",
    "svm2 = SVC(C=0.3, probability=True, random_state=42)\n",
    "\n",
    "soft_vote_clf = VotingClassifier(estimators=[('lr', lr), ('svm1', svm1), ('svm2', svm2)], voting='soft')\n",
    "soft_vote_clf.fit(x_train, y_train)\n",
    "titanic_softvote_prediction = soft_vote_clf.predict(x_test)\n",
    "\n",
    "print(\"Evaluasi pembelajaran dengan soft voting dengan metrics II.1:\\n\")\n",
    "print(classification_report(y_test, titanic_softvote_prediction))\n",
    "print(\"precision hasil prediksi:\", precision_score(y_test, titanic_softvote_prediction))\n",
    "print(\"recall hasil prediksi:\", recall_score(y_test, titanic_softvote_prediction))\n",
    "print(\"f1 score hasil prediksi:\", f1_score(y_test, titanic_softvote_prediction))\n",
    "print(\"Accuracy hasil prediksi:\",accuracy_score(y_test, titanic_softvote_prediction))\n",
    "\n",
    "crossval_score = cross_val_score(soft_vote_clf, x_train, y_train.values.ravel(), cv=5)\n",
    "print(f\"\\nCross validation score: {crossval_score}\")\n",
    "\n",
    "# 2. \n",
    "hard_vote_clf = VotingClassifier(estimators=[('lr', lr), ('svm1', svm1), ('svm2', svm2)], voting='hard')\n",
    "hard_vote_clf.fit(x_train, y_train)\n",
    "titanic_hardvote_prediction = soft_vote_clf.predict(x_test)\n",
    "\n",
    "print(\"Evaluasi pembelajaran dengan hard voting dengan metrics II.1:\\n\")\n",
    "print(classification_report(y_test, titanic_hardvote_prediction))\n",
    "print(\"precision hasil prediksi:\", precision_score(y_test, titanic_hardvote_prediction))\n",
    "print(\"recall hasil prediksi:\", recall_score(y_test, titanic_hardvote_prediction))\n",
    "print(\"f1 score hasil prediksi:\", f1_score(y_test, titanic_hardvote_prediction))\n",
    "print(\"Accuracy hasil prediksi:\",accuracy_score(y_test, titanic_hardvote_prediction))\n",
    "\n",
    "crossval_score = cross_val_score(hard_vote_clf, x_train, y_train.values.ravel(), cv=5)\n",
    "print(f\"\\nCross validation score: {crossval_score}\")\n",
    "\n",
    "# 3.\n",
    "stacking_clf = StackingClassifier(estimators=[('lr', lr), ('svm1', svm1), ('svm2', svm2)], final_estimator=LogisticRegression())\n",
    "stacking_clf.fit(x_train, y_train)\n",
    "titanic_stacking_prediction = stacking_clf.predict(x_train)\n",
    "\n",
    "print(\"Evaluasi pembelajaran dengan stacking dengan metrics II.1:\\n\")\n",
    "print(classification_report(y_test, titanic_stacking_prediction))\n",
    "print(\"precision hasil prediksi:\", precision_score(y_test, titanic_stacking_prediction))\n",
    "print(\"recall hasil prediksi:\", recall_score(y_test, titanic_stacking_prediction))\n",
    "print(\"f1 score hasil prediksi:\", f1_score(y_test, titanic_stacking_prediction))\n",
    "print(\"Accuracy hasil prediksi:\",accuracy_score(y_test, titanic_stacking_prediction))\n",
    "\n",
    "crossval_score = cross_val_score(stacking_clf, x_train, y_train.values.ravel(), cv=5)\n",
    "print(f\"\\nCross validation score: {crossval_score}\")\n"
   ]
  },
  {
   "cell_type": "markdown",
   "metadata": {
    "id": "unmFXb-73OMD"
   },
   "source": [
    "# IV. Analisis\n",
    "Bandingkan hasil dari:\n",
    "1. Model Baseline (II.3)\n",
    "2. Model lain (II.4)\n",
    "3. Hasil undersampling\n",
    "4. Hasil oversampling\n",
    "5. Hasil soft voting\n",
    "6. Hasil hard voting\n",
    "7. Hasil stacking "
   ]
  },
  {
   "cell_type": "markdown",
   "metadata": {
    "id": "e9x0VH2AAkwZ"
   },
   "source": [
    "## Model baseline vs Model lain\n",
    "\n",
    "- Model baseline\n",
    "    - Precision Score : \n",
    "    - Recall Score :\n",
    "    - F1 Score :\n",
    "    - Accuracy Score :\n",
    "\n",
    "- Model lain\n",
    "    - Support Vector Machine\n",
    "        - Precision Score :\n",
    "        - Recall Score :\n",
    "        - F1 Score :\n",
    "        - Accuracy Score :\n",
    "    - Support Vector Machine (tuning)\n",
    "        - Precision Score :\n",
    "        - Recall Score :\n",
    "        - F1 Score :\n",
    "        - Accuracy Score :\n",
    "\n",
    "Dapat disimpulkan bahwa pembelajaran dataset dengan menggunakan model Support Vector Machine yang sudah di-tune hyperparameternya melakukan pembelajaran yang lebih baik dan menghasilkan prediksi yang lebih baik dibandingkan pembelajaran menggunakkan model Logistic Regression maupun Support Vector Machine biasa.\n",
    "\n",
    "## Undersampling vs Oversampling\n",
    "- Undersampling\n",
    "    - Precision Score : \n",
    "    - Recall Score :\n",
    "    - F1 Score :\n",
    "    - Accuracy Score :\n",
    "- Oversampling\n",
    "    - Precision Score :\n",
    "    - Recall Score :\n",
    "    - F1 Score :\n",
    "    - Accuracy Score :\n",
    "\n",
    "Dapat disimpulkan bahwa peningkatan performa dengan undersampling merupakan peningkatan performa yang lebih cocok dibandingkan peningkatan performa dengan oversampling. Hal tersebut dikarenakan hasil perhitungan metrics dengan peningkatan performa undersampling menghasilkan nilai yang lebih baik dibandingkan oversampling.\n",
    "\n",
    "## Soft Voting vs Hard Voting vs Stacking\n",
    "\n",
    "- Soft Voting\n",
    "    - Precision Score : \n",
    "    - Recall Score :\n",
    "    - F1 Score :\n",
    "    - Accuracy Score :\n",
    "\n",
    "- Hard Voting\n",
    "    - Precision Score :  0.9090909090909091\n",
    "    - Recall Score : 0.2830188679245283\n",
    "    - F1 Score : 0.4316546762589928\n",
    "    - Accuracy Score : 0.6984732824427481\n",
    "\n",
    "- Stacking\n",
    "    - Precision Score : \n",
    "    - Recall Score :\n",
    "    - F1 Score :\n",
    "    - Accuracy Score :\n",
    "\n",
    "Untuk setiap metode ensemble learning, accuracy yang diperoleh tidak lebih baik daripada hasil SVM dengan hyperparameter tuning pada sendirinya. Namun, nilai precision dan f1 mengalami peningkatan, sehingga dapat disimpulkan bahwa metode voting atau stacking memperbaiki kemampuan model memprediksi kasus positif (penumpang survive)."
   ]
  }
 ],
 "metadata": {
  "colab": {
   "collapsed_sections": [],
   "name": "Tugas Pendahuluan IF3270.ipynb",
   "provenance": []
  },
  "kernelspec": {
   "display_name": "Python 3",
   "language": "python",
   "name": "python3"
  },
  "language_info": {
   "codemirror_mode": {
    "name": "ipython",
    "version": 3
   },
   "file_extension": ".py",
   "mimetype": "text/x-python",
   "name": "python",
   "nbconvert_exporter": "python",
   "pygments_lexer": "ipython3",
   "version": "3.9.1"
  }
 },
 "nbformat": 4,
 "nbformat_minor": 4
}
