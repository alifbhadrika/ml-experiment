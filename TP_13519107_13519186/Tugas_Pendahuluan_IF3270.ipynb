{
 "cells": [
  {
   "cell_type": "markdown",
   "metadata": {
    "id": "bdq8ydSd4xUy"
   },
   "source": [
    "# Tugas Pendahuluan\n",
    "Tugas Pendahuluan dikerjakan dengan dataset titanic yang dapat didownload pada link [berikut](https://drive.google.com/file/d/16j_9FEHLjh_Y_3CdUtp9M13VwImyT89T/view?usp=sharing). Lakukan prediksi apakah suatu penumpang selamat atau tidak (kolom **survived**), bernilai 0 jika tidak selamat, dan 1 jika selamat.\n",
    "\n",
    "<br>\n",
    "Tugas dikerjakan secara berkelompok, dengan 1 kelompok terdiri atas 2 mahasiswa. Waktu pengerjaan dari 28 Maret 2022 - 3 April 2022 pukul 23.59."
   ]
  },
  {
   "cell_type": "markdown",
   "metadata": {
    "id": "XAHqneEY7b7b"
   },
   "source": [
    "# 0. Loading Data and Library"
   ]
  },
  {
   "cell_type": "code",
   "execution_count": null,
   "metadata": {
    "id": "zsBbpcIi7fHi"
   },
   "outputs": [],
   "source": [
    "# Put your library here"
   ]
  },
  {
   "cell_type": "code",
   "execution_count": null,
   "metadata": {
    "id": "OWLkjeKo7gdD"
   },
   "outputs": [],
   "source": [
    "# Read data here"
   ]
  },
  {
   "cell_type": "markdown",
   "metadata": {
    "id": "JYGzyrantR1r"
   },
   "source": [
    "# I. Data Understanding\n",
    "Tujuan dari bagian ini adalah peserta dapat memahami kualitas dari data yang diberikan. Hal ini meliputi:\n",
    "1. Ukuran data\n",
    "2. Statistik dari tiap fitur\n",
    "3. Pencilan (outlier)\n",
    "4. Korelasi\n",
    "5. Distribusi "
   ]
  },
  {
   "cell_type": "markdown",
   "metadata": {
    "id": "8SMf9-ikuoCe"
   },
   "source": [
    "## I.1 \n",
    "Carilah:\n",
    "1. Ukuran dari data (instances dan features)\n",
    "2. Tipe dari tiap-tiap fitur \n",
    "3. Banyaknya unique values dari fitur yang bertipe kategorikal\n",
    "4. Nilai minimum, maksimum, rata-rata, median, dan standar deviasi dari fitur yang tidak bertipe kategorikal"
   ]
  },
  {
   "cell_type": "code",
   "execution_count": null,
   "metadata": {
    "id": "SAxrfZySuM3-"
   },
   "outputs": [],
   "source": [
    "# I.1 Put your code here"
   ]
  },
  {
   "cell_type": "markdown",
   "metadata": {
    "id": "VE1l_gOTwHuz"
   },
   "source": [
    "## I.2\n",
    "Carilah:\n",
    "1. Missing values dari tiap fitur\n",
    "2. Outliers dari tiap fitur (gunakan metode yang kalian ketahui)"
   ]
  },
  {
   "cell_type": "code",
   "execution_count": null,
   "metadata": {
    "id": "IGe-YWAvwQDr"
   },
   "outputs": [],
   "source": [
    "# I.2 Put your code here"
   ]
  },
  {
   "cell_type": "markdown",
   "metadata": {
    "id": "8tUGStQ_wR4P"
   },
   "source": [
    "## I.3\n",
    "Carilah:\n",
    "1. Korelasi antar fitur\n",
    "2. Visualisasikan distribusi dari tiap fitur (kategorikal dan kontinu)\n",
    "3. Visualisasikan distribusi dari tiap fitur, dengan data dibagi tiap unique values fitur survived"
   ]
  },
  {
   "cell_type": "code",
   "execution_count": null,
   "metadata": {
    "id": "XoBqyQA1wRNX"
   },
   "outputs": [],
   "source": [
    "# I.3 Put your code here"
   ]
  },
  {
   "cell_type": "markdown",
   "metadata": {
    "id": "kV3BDt235mdz"
   },
   "source": [
    "## I.4\n",
    "Lakukanlah analisa pada data lebih lanjut jika dibutuhkan, kemudian lakukanlah:\n",
    "1. Penambahan fitur jika memungkinkan\n",
    "2. Pembuangan fitur yang menurut kalian tidak dibutuhkan\n",
    "3. Penanganan missing values\n",
    "4. Transformasi data kategorikal menjadi numerikal (encoding), dengan metode yang kalian inginkan\n",
    "5. Lakukan scaling dengan MinMaxScaler"
   ]
  },
  {
   "cell_type": "code",
   "execution_count": null,
   "metadata": {
    "id": "jlTGspG_56re"
   },
   "outputs": [],
   "source": [
    "# I.4 Put your code here"
   ]
  },
  {
   "cell_type": "markdown",
   "metadata": {
    "id": "mt2zHZRauLIm"
   },
   "source": [
    "# II. Experiments Design\n",
    "Tujuan dari bagian ini adalah peserta dapat memahami cara melakukan eksperimen mencari metode terbaik dengan benar. Hal ini meliputi:\n",
    "1. Pembuatan model\n",
    "2. Proses validasi\n",
    "3. Hyperparameter tuning"
   ]
  },
  {
   "cell_type": "markdown",
   "metadata": {
    "id": "Kf4xsl8RydIt"
   },
   "source": [
    "## II.1\n",
    "Tentukanlah metrics yang akan digunakan pada eksperimen kali ini (dapat lebih dari 1 metric)"
   ]
  },
  {
   "cell_type": "markdown",
   "metadata": {
    "id": "S2I0axfj4OuC"
   },
   "source": [
    "Put your answer for section II.1 here"
   ]
  },
  {
   "cell_type": "markdown",
   "metadata": {
    "id": "FONT0OyUyoQG"
   },
   "source": [
    "## II.2 \n",
    "Bagi data dengan perbandingan 0.8 untuk data train dan 0.2 untuk data validasi"
   ]
  },
  {
   "cell_type": "code",
   "execution_count": null,
   "metadata": {
    "id": "Gqa9nn5muMS2"
   },
   "outputs": [],
   "source": [
    "# II.2 Put your code here"
   ]
  },
  {
   "cell_type": "markdown",
   "metadata": {
    "id": "V4yS8O3tyyyh"
   },
   "source": [
    "## II.3\n",
    "Lakukanlah:\n",
    "1. Prediksi dengan menggunakan model Logistic Regression sebagai *baseline*\n",
    "2. Tampilkan evaluasi dari model yang dibangun dari metrics yang anda tentukan pada II.1\n",
    "3. Tampilkan confusion matrix"
   ]
  },
  {
   "cell_type": "code",
   "execution_count": null,
   "metadata": {
    "id": "EpEqAz94yyQo"
   },
   "outputs": [],
   "source": [
    "# II.3 Put your code here"
   ]
  },
  {
   "cell_type": "markdown",
   "metadata": {
    "id": "aFB2AlZfzU54"
   },
   "source": [
    "## II.4 \n",
    "Lakukanlah:\n",
    "1. Pembelajaran dengan model lain\n",
    "2. Hyperparameter tuning model yang kalian pakai dengan menggunakan Grid Search (perhatikan random factor pada beberapa algoritma model)\n",
    "3. Lakukan validasi dengan menggunakan cross validation\n"
   ]
  },
  {
   "cell_type": "code",
   "execution_count": null,
   "metadata": {
    "id": "df0YVJ7dzUSc"
   },
   "outputs": [],
   "source": [
    "# II.4 Put your code here"
   ]
  },
  {
   "cell_type": "markdown",
   "metadata": {
    "id": "5ePIGuRZuNZb"
   },
   "source": [
    "# III. Improvement\n",
    "Terdapat beberapa metode untuk melakukan peningkatan performa, contohnya adalah:\n",
    "1. Melakukan oversampling / undersampling pada data\n",
    "2. Menggabungkan beberapa model \n",
    "\n",
    "Pada bagian ini, kalian diharapkan dapat:\n",
    "1. Melakukan training dengan data hasil oversampling / undersampling dan melakukan validasi dengan benar\n",
    "2. Memahami beberapa metode untuk menggabungkan beberapa model"
   ]
  },
  {
   "cell_type": "markdown",
   "metadata": {
    "id": "NGgjXVqf1vhN"
   },
   "source": [
    "## III.1\n",
    "Lakukanlah:\n",
    "1. Oversampling pada kelas minoritas pada data train, kemudian train dengan model *baseline* (II.3), lakukan validasi dengan data validasi. Data train dan validasi adalah data yang kalian bagi pada bagian II.2\n",
    "2. Undersampling pada kelas mayoritas pada data train, kemudian train dengan model *baseline* (II.3) lakukan validasi dengan data validasi. Data train dan validasi adalah data yang kalian bagi pada bagian II.2"
   ]
  },
  {
   "cell_type": "code",
   "execution_count": null,
   "metadata": {
    "id": "bLLLsyoF2GIM"
   },
   "outputs": [],
   "source": [
    "# III.1 Put your code here"
   ]
  },
  {
   "cell_type": "markdown",
   "metadata": {
    "id": "FtbGHN3P2Fxe"
   },
   "source": [
    "## III.2\n",
    "Lakukanlah:\n",
    "1. Eksplorasi soft voting, hard voting, dan stacking\n",
    "2. Buatlah model Logistic Regression dan SVM (boleh menggunakan model dengan beberapa parameter yang berbeda)\n",
    "3. Lakukanlah soft voting dari model-model yang sudah kalian buat pada poin 2\n",
    "4. Lakukan hard voting dari model-model yang sudah kalian buat pada poin 2\n",
    "5. Lakukanlah stacking dengan final classifier adalah Logistic Regression dari model-model yang sudah kalian buat pada poin 2\n",
    "6. Lakukan validasi dengan metrics yang kalian tentukan untuk poin 3, 4, dan 5"
   ]
  },
  {
   "cell_type": "markdown",
   "metadata": {
    "id": "NfGqy72SAZ-t"
   },
   "source": [
    "Put your answer for section III.2 point 1 here"
   ]
  },
  {
   "cell_type": "code",
   "execution_count": null,
   "metadata": {
    "id": "zdchguBQtErx"
   },
   "outputs": [],
   "source": [
    "# III.2 Put your code here"
   ]
  },
  {
   "cell_type": "markdown",
   "metadata": {
    "id": "unmFXb-73OMD"
   },
   "source": [
    "# IV. Analisis\n",
    "Bandingkan hasil dari:\n",
    "1. Model Baseline (II.3)\n",
    "2. Model lain (II.4)\n",
    "3. Hasil undersampling\n",
    "4. Hasil oversampling\n",
    "5. Hasil soft voting\n",
    "6. Hasil hard voting\n",
    "7. Hasil stacking "
   ]
  },
  {
   "cell_type": "markdown",
   "metadata": {
    "id": "e9x0VH2AAkwZ"
   },
   "source": [
    "Put your answer for section IV here"
   ]
  }
 ],
 "metadata": {
  "colab": {
   "collapsed_sections": [],
   "name": "Tugas Pendahuluan IF3270.ipynb",
   "provenance": []
  },
  "kernelspec": {
   "display_name": "Python 3",
   "language": "python",
   "name": "python3"
  },
  "language_info": {
   "codemirror_mode": {
    "name": "ipython",
    "version": 3
   },
   "file_extension": ".py",
   "mimetype": "text/x-python",
   "name": "python",
   "nbconvert_exporter": "python",
   "pygments_lexer": "ipython3",
   "version": "3.9.1"
  }
 },
 "nbformat": 4,
 "nbformat_minor": 4
}
